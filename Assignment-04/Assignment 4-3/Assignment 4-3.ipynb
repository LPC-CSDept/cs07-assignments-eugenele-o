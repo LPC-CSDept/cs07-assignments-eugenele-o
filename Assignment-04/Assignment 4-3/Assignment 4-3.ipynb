{
 "cells": [
  {
   "cell_type": "code",
   "execution_count": 1,
   "metadata": {},
   "outputs": [
    {
     "name": "stdout",
     "output_type": "stream",
     "text": [
      "0\t1\t2\t3\t4\t5\t6\t7\t8\t9\t"
     ]
    }
   ],
   "source": [
    "# Exercise 5 / Repeat While Loop Iteration\n",
    "\n",
    "i = 0\n",
    "while i < 10:\n",
    "\tprint (i, end='\\t')\n",
    "\ti += 1"
   ]
  },
  {
   "cell_type": "code",
   "execution_count": 3,
   "metadata": {},
   "outputs": [
    {
     "name": "stdout",
     "output_type": "stream",
     "text": [
      "a b c d e f g h i j k l m n o p "
     ]
    }
   ],
   "source": [
    "# Exercise 6 / Exit on User Input = 'q'\n",
    "\n",
    "user_input = input('Enter your character')\n",
    "\n",
    "while user_input != 'q':\n",
    "\tprint (user_input, end=' ')\n",
    "\tuser_input = input('Enter your character')"
   ]
  }
 ],
 "metadata": {
  "interpreter": {
   "hash": "b23c1829de45e80128221cfbbe48e43253e3486b78a8791b1ce1cebf22a83235"
  },
  "kernelspec": {
   "display_name": "Python 3.10.1 64-bit",
   "language": "python",
   "name": "python3"
  },
  "language_info": {
   "codemirror_mode": {
    "name": "ipython",
    "version": 3
   },
   "file_extension": ".py",
   "mimetype": "text/x-python",
   "name": "python",
   "nbconvert_exporter": "python",
   "pygments_lexer": "ipython3",
   "version": "3.10.1"
  },
  "orig_nbformat": 4
 },
 "nbformat": 4,
 "nbformat_minor": 2
}
