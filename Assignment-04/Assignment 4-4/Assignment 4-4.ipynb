{
 "cells": [
  {
   "cell_type": "code",
   "execution_count": 218,
   "metadata": {},
   "outputs": [
    {
     "name": "stdout",
     "output_type": "stream",
     "text": [
      "66 is equal to 66, how about that!\n",
      "66 is larger than 24!\n",
      "66 is less than 90!\n"
     ]
    }
   ],
   "source": [
    "# Exercise 9 / Using a Break to Stop a Loop\n",
    "\n",
    "import random as rng\n",
    "rng_int1 = rng.randint(0,99)\n",
    "flag = 1\n",
    "\n",
    "while flag:\n",
    "    rng_int2 = rng.randint(0,99)\n",
    "    if rng_int1 < rng_int2:\n",
    "        print(f'{rng_int1} is less than {rng_int2}!')\n",
    "        break\n",
    "    elif rng_int1 == rng_int2:\n",
    "        print(f'{rng_int1} is equal to {rng_int2}, how about that!') #Yes I am having fun with this\n",
    "    else:\n",
    "        print(f'{rng_int1} is larger than {rng_int2}!')"
   ]
  },
  {
   "cell_type": "code",
   "execution_count": 392,
   "metadata": {},
   "outputs": [
    {
     "name": "stdout",
     "output_type": "stream",
     "text": [
      "14 + 11 + 1 + 16 + 59 + = 101 is greater than(or equal to) 100, it has stopped on iteration 6\n"
     ]
    }
   ],
   "source": [
    "# Exercise 10 / Sum of Random Numbers Within 100 Using a Break\n",
    "\n",
    "import random as rng\n",
    "sum = 0\n",
    "max_iteration = 10\n",
    "min_iteration = 1\n",
    "\n",
    "while True:\n",
    "    int1 = rng.randint(0,100)\n",
    "    print(int1, end=' + ')\n",
    "    sum += int1\n",
    "    min_iteration += 1\n",
    "    if sum >= 100:\n",
    "        print(f'= {sum} is greater than(or equal to) 100, it has stopped on iteration {min_iteration}')\n",
    "        break\n",
    "    if min_iteration == max_iteration:\n",
    "        print(f'After 10 iterations the program is still less than(or equal to) 100, the total sum is {sum}')\n",
    "        break"
   ]
  },
  {
   "cell_type": "code",
   "execution_count": 473,
   "metadata": {},
   "outputs": [
    {
     "name": "stdout",
     "output_type": "stream",
     "text": [
      "0 0 | \n",
      "1 0 | 1 1 | \n",
      "2 0 | 2 1 | 2 2 | \n"
     ]
    }
   ],
   "source": [
    "# Exercise 11 / Nested Loop\n",
    "\n",
    "\n",
    "for i in range(1):\n",
    "    for j in range(1):\n",
    "        print(i , j , end=' | ')\n",
    "    print( )\n",
    "for i in range(1, 2):\n",
    "    for j in range(2):\n",
    "        print(i , j , end=' | ')\n",
    "    print( )\n",
    "for i in range(2 , 3):\n",
    "    for j in range(0 , 3):\n",
    "        print(i , j , end=' | ')\n",
    "    print( )"
   ]
  }
 ],
 "metadata": {
  "interpreter": {
   "hash": "b23c1829de45e80128221cfbbe48e43253e3486b78a8791b1ce1cebf22a83235"
  },
  "kernelspec": {
   "display_name": "Python 3.10.1 64-bit",
   "language": "python",
   "name": "python3"
  },
  "language_info": {
   "codemirror_mode": {
    "name": "ipython",
    "version": 3
   },
   "file_extension": ".py",
   "mimetype": "text/x-python",
   "name": "python",
   "nbconvert_exporter": "python",
   "pygments_lexer": "ipython3",
   "version": "3.10.1"
  },
  "orig_nbformat": 4
 },
 "nbformat": 4,
 "nbformat_minor": 2
}
