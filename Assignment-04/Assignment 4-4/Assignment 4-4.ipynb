{
 "cells": [
  {
   "cell_type": "code",
   "execution_count": 218,
   "metadata": {},
   "outputs": [
    {
     "name": "stdout",
     "output_type": "stream",
     "text": [
      "66 is equal to 66, how about that!\n",
      "66 is larger than 24!\n",
      "66 is less than 90!\n"
     ]
    }
   ],
   "source": [
    "# Exercise 9 / Using a Break to Stop a Loop\n",
    "\n",
    "import random as rng\n",
    "rng_int1 = rng.randint(0,99)\n",
    "flag = 1\n",
    "\n",
    "while flag:\n",
    "    rng_int2 = rng.randint(0,99)\n",
    "    if rng_int1 < rng_int2:\n",
    "        print(f'{rng_int1} is less than {rng_int2}!')\n",
    "        break\n",
    "    elif rng_int1 == rng_int2:\n",
    "        print(f'{rng_int1} is equal to {rng_int2}, how about that!') #Yes I am having fun with this\n",
    "    else:\n",
    "        print(f'{rng_int1} is larger than {rng_int2}!')"
   ]
  }
 ],
 "metadata": {
  "interpreter": {
   "hash": "b23c1829de45e80128221cfbbe48e43253e3486b78a8791b1ce1cebf22a83235"
  },
  "kernelspec": {
   "display_name": "Python 3.10.1 64-bit",
   "language": "python",
   "name": "python3"
  },
  "language_info": {
   "codemirror_mode": {
    "name": "ipython",
    "version": 3
   },
   "file_extension": ".py",
   "mimetype": "text/x-python",
   "name": "python",
   "nbconvert_exporter": "python",
   "pygments_lexer": "ipython3",
   "version": "3.10.1"
  },
  "orig_nbformat": 4
 },
 "nbformat": 4,
 "nbformat_minor": 2
}
