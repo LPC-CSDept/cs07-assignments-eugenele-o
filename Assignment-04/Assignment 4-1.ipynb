{
 "cells": [
  {
   "cell_type": "code",
   "execution_count": 116,
   "metadata": {},
   "outputs": [
    {
     "name": "stdout",
     "output_type": "stream",
     "text": [
      "2\n",
      "4\n",
      "8\n",
      "16\n",
      "32\n",
      "64\n",
      "128\n",
      "256\n",
      "512\n",
      "1024\n"
     ]
    }
   ],
   "source": [
    "#Exercise 1 / For Loop\n",
    "\n",
    "e = 0\n",
    "r = 2\n",
    "\n",
    "while e < 10:\n",
    "  e += 1\n",
    "  print(r ** e)"
   ]
  },
  {
   "cell_type": "code",
   "execution_count": 2,
   "metadata": {},
   "outputs": [
    {
     "name": "stdout",
     "output_type": "stream",
     "text": [
      "The sum is 850\n"
     ]
    }
   ],
   "source": [
    "#Exercise 2 / Calculating a Running Total\n",
    "\n",
    "x = 0\n",
    "\n",
    "for i in range(5):\n",
    "\tint_input = int(input('Please enter your numbers: '))\n",
    "\tx += int_input \n",
    "print (f'The sum is {x}')"
   ]
  },
  {
   "cell_type": "code",
   "execution_count": 3,
   "metadata": {},
   "outputs": [
    {
     "name": "stdout",
     "output_type": "stream",
     "text": [
      "Your sum is 47030\n"
     ]
    }
   ],
   "source": [
    "#Exercise 3 / Calculating a Running Total 2\n",
    "\n",
    "i = 0\n",
    "sum = 0\n",
    "\n",
    "while i < 5:\n",
    "  user_input = int(input('Please enter your numbers: '))\n",
    "  i += 1\n",
    "  sum += user_input\n",
    "print(f'Your sum is {sum}')"
   ]
  }
 ],
 "metadata": {
  "interpreter": {
   "hash": "b23c1829de45e80128221cfbbe48e43253e3486b78a8791b1ce1cebf22a83235"
  },
  "kernelspec": {
   "display_name": "Python 3.10.1 64-bit",
   "language": "python",
   "name": "python3"
  },
  "language_info": {
   "codemirror_mode": {
    "name": "ipython",
    "version": 3
   },
   "file_extension": ".py",
   "mimetype": "text/x-python",
   "name": "python",
   "nbconvert_exporter": "python",
   "pygments_lexer": "ipython3",
   "version": "3.10.1"
  },
  "orig_nbformat": 4
 },
 "nbformat": 4,
 "nbformat_minor": 2
}
