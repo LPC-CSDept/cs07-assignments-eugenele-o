{
 "cells": [
  {
   "cell_type": "code",
   "execution_count": null,
   "metadata": {},
   "outputs": [],
   "source": [
    "#Exercise 4 / Loop Until Even Number\n",
    "\n",
    "import random as rng\n",
    "\n",
    "while True:\n",
    "    int = rng.randint(0,100)\n",
    "    if int % 2 != 0:\n",
    "        print(int)\n",
    "    else:\n",
    "        print(f'{int} is an even number! The End!') #I only wrote this like if someone was curious on what the final number was\n",
    "        break"
   ]
  },
  {
   "cell_type": "code",
   "execution_count": null,
   "metadata": {},
   "outputs": [],
   "source": [
    "#Exercise 5 / Summation of Random Numbers Before 100\n",
    "\n",
    "import random as rng\n",
    "sum = 0\n",
    "\n",
    "while sum < 100:\n",
    "\tnum = rng.randint(0,100)\n",
    "\tsum += num \n",
    "\tif sum < 100: \n",
    "\t  print (num)\n",
    "\n",
    "print (f\"The total sum was {sum-num}\")"
   ]
  }
 ],
 "metadata": {
  "language_info": {
   "name": "python"
  },
  "orig_nbformat": 4
 },
 "nbformat": 4,
 "nbformat_minor": 2
}
