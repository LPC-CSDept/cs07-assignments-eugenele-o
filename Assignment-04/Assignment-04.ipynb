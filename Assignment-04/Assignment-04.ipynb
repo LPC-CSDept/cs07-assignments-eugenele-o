{
 "cells": [
  {
   "cell_type": "code",
   "execution_count": null,
   "metadata": {},
   "outputs": [],
   "source": [
    "#Exercise 1 / For Loop\n",
    "\n",
    "e = 1\n",
    "r = 2\n",
    "\n",
    "while e < 10:\n",
    "  e += 1\n",
    "  print(r ** e)"
   ]
  },
  {
   "cell_type": "code",
   "execution_count": null,
   "metadata": {},
   "outputs": [],
   "source": [
    "#Exercise 2 / Calculating a Running Total\n",
    "\n",
    "x = 0\n",
    "\n",
    "for i in range(5):\n",
    "\tint_input = int(input('Please enter your numbers: '))\n",
    "\tx += int_input \n",
    "print (f'The sum is {x}')"
   ]
  },
  {
   "cell_type": "code",
   "execution_count": null,
   "metadata": {},
   "outputs": [],
   "source": [
    "#Exercise 3 / Calculating a Running Total 2\n",
    "\n",
    "i = 0\n",
    "sum = 0\n",
    "\n",
    "while i < 5:\n",
    "  user_input = int(input('Please enter your numbers: '))\n",
    "  i += 1\n",
    "  sum += user_input\n",
    "print(f'Your sum is {sum}')"
   ]
  }
 ],
 "metadata": {
  "language_info": {
   "name": "python"
  },
  "orig_nbformat": 4
 },
 "nbformat": 4,
 "nbformat_minor": 2
}
