{
 "cells": [
  {
   "cell_type": "code",
   "execution_count": 116,
   "metadata": {},
   "outputs": [
    {
     "name": "stdout",
     "output_type": "stream",
     "text": [
      "2\n",
      "4\n",
      "8\n",
      "16\n",
      "32\n",
      "64\n",
      "128\n",
      "256\n",
      "512\n",
      "1024\n"
     ]
    }
   ],
   "source": [
    "#Exercise 1 / For Loop\n",
    "\n",
    "e = 0\n",
    "r = 2\n",
    "\n",
    "while e < 10:\n",
    "  e += 1\n",
    "  print(r ** e)"
   ]
  },
  {
   "cell_type": "code",
   "execution_count": 2,
   "metadata": {},
   "outputs": [
    {
     "name": "stdout",
     "output_type": "stream",
     "text": [
      "The sum is 850\n"
     ]
    }
   ],
   "source": [
    "#Exercise 2 / Calculating a Running Total\n",
    "\n",
    "x = 0\n",
    "\n",
    "for i in range(5):\n",
    "\tint_input = int(input('Please enter your numbers: '))\n",
    "\tx += int_input \n",
    "print (f'The sum is {x}')"
   ]
  },
  {
   "cell_type": "code",
   "execution_count": 3,
   "metadata": {},
   "outputs": [
    {
     "name": "stdout",
     "output_type": "stream",
     "text": [
      "Your sum is 47030\n"
     ]
    }
   ],
   "source": [
    "#Exercise 3 / Calculating a Running Total 2\n",
    "\n",
    "i = 0\n",
    "sum = 0\n",
    "\n",
    "while i < 5:\n",
    "  user_input = int(input('Please enter your numbers: '))\n",
    "  i += 1\n",
    "  sum += user_input\n",
    "print(f'Your sum is {sum}')"
   ]
  },
  {
   "cell_type": "code",
   "execution_count": 111,
   "metadata": {},
   "outputs": [
    {
     "name": "stdout",
     "output_type": "stream",
     "text": [
      "7\n",
      "39\n",
      "1\n",
      "97\n",
      "30 is an even number! The End!\n"
     ]
    }
   ],
   "source": [
    "#Exercise 4 / Loop Until Even Number\n",
    "\n",
    "import random as rng\n",
    "\n",
    "while True:\n",
    "    int = rng.randint(0,100)\n",
    "    if int % 2 != 0:\n",
    "        print(int)\n",
    "    else:\n",
    "        print(f'{int} is an even number! The End!') #I only wrote this like if someone was curious on what the final number was\n",
    "        break"
   ]
  },
  {
   "cell_type": "code",
   "execution_count": 7,
   "metadata": {},
   "outputs": [
    {
     "name": "stdout",
     "output_type": "stream",
     "text": [
      "31\n",
      "30\n",
      "27\n",
      "The total sum was 88\n"
     ]
    }
   ],
   "source": [
    "#Exercise 5 / Summation of Random Numbers Before 100\n",
    "\n",
    "import random as rng\n",
    "sum = 0\n",
    "\n",
    "while sum < 100:\n",
    "\tnum = rng.randint(0,100)\n",
    "\tsum += num \n",
    "\tif sum < 100: \n",
    "\t  print (num)\n",
    "\n",
    "print (f\"The total sum was {sum-num}\")"
   ]
  }
 ],
 "metadata": {
  "interpreter": {
   "hash": "b23c1829de45e80128221cfbbe48e43253e3486b78a8791b1ce1cebf22a83235"
  },
  "kernelspec": {
   "display_name": "Python 3.10.1 64-bit",
   "language": "python",
   "name": "python3"
  },
  "language_info": {
   "codemirror_mode": {
    "name": "ipython",
    "version": 3
   },
   "file_extension": ".py",
   "mimetype": "text/x-python",
   "name": "python",
   "nbconvert_exporter": "python",
   "pygments_lexer": "ipython3",
   "version": "3.10.1"
  },
  "orig_nbformat": 4
 },
 "nbformat": 4,
 "nbformat_minor": 2
}
