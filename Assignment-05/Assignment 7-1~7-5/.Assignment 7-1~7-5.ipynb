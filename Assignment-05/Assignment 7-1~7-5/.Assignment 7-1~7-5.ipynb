{
 "cells": [
  {
   "cell_type": "code",
   "execution_count": 2,
   "metadata": {},
   "outputs": [
    {
     "name": "stdout",
     "output_type": "stream",
     "text": [
      "[20, 15, 0, 3]\n",
      "The minimum value is: 0\n",
      "The maximum value is: 20\n",
      "The total sum is: 18\n",
      "The total average is: 9.0\n"
     ]
    }
   ],
   "source": [
    "#Assignment 1 / Summation of Numbers Without Negatives, Minimum, or Max Values\n",
    "\n",
    "userlist = []\n",
    "i = 0; total = 0\n",
    "\n",
    "while True:\n",
    "  userval = int(input('Please input a number: '))\n",
    "  if (userval < 0):\n",
    "    break\n",
    "  total += userval\n",
    "  userlist.append(userval)\n",
    "\n",
    "print(userlist)\n",
    "\n",
    "minval = min(userlist)\n",
    "maxval = max(userlist)\n",
    "\n",
    "total = total - maxval - minval\n",
    "average = total / (len(userlist) - 2)\n",
    "\n",
    "print('The minimum value is: {0}'.format(minval))\n",
    "print('The maximum value is: {0}'.format(maxval))\n",
    "print('The total sum is: {0}\\nThe total average is: {1}'.format(total, average))"
   ]
  },
  {
   "cell_type": "code",
   "execution_count": 52,
   "metadata": {},
   "outputs": [
    {
     "name": "stdout",
     "output_type": "stream",
     "text": [
      "[21, 33, 37, 49, 81]\n",
      "The total average is 44.2\n",
      "In order, the differences from the average are ['23.20', '11.20', '7.20', '4.80', '36.80']\n"
     ]
    }
   ],
   "source": [
    "#Assignment 2 / Calculate the Distance From the Average Value\n",
    "\n",
    "list =[]\n",
    "list2 = []\n",
    "totalval = int(input(\"How many values do you want to input?: \"))\n",
    "sum = 0 \n",
    "\n",
    "for i in range (totalval):\n",
    "    num = int(input('Enter value: '))\n",
    "    list.append(num)\n",
    "    sum += num\n",
    "\n",
    "print(list) \n",
    "\n",
    "\n",
    "avg = sum / len(list)\n",
    "print('The total average is {0}'.format(avg, \".2f\"))\n",
    "\n",
    "for i in range(totalval):\n",
    "    distance = list[i] - avg\n",
    "    if distance < 0:\n",
    "        distance = distance * -1\n",
    "    distance = format(distance, '.2f')\n",
    "    list2.append(distance)\n",
    "    i += 1\n",
    "\n",
    "print(f'In order, the differences from the average are {list2}')"
   ]
  },
  {
   "cell_type": "code",
   "execution_count": 22,
   "metadata": {},
   "outputs": [
    {
     "name": "stdout",
     "output_type": "stream",
     "text": [
      "List 2 is a subset of List 1\n"
     ]
    }
   ],
   "source": [
    "#Assignment 3 / Determine the Sub-array\n",
    "\n",
    "list1 = [21, 2, 4, 26, 21, 1, 6]\n",
    "list2 = [1, 26, 4, 1]\n",
    "flag = 0\n",
    "\n",
    "for i in range(len(list2)):\n",
    "    if list2 [i] in list1:\n",
    "        continue\n",
    "    else:\n",
    "        flag = 1\n",
    "        break \n",
    "    \n",
    "if flag:\n",
    "    print ('List 2 is not a subset of List 1')\n",
    "else:\n",
    "    print ('List 2 is a subset of List 1')"
   ]
  },
  {
   "cell_type": "code",
   "execution_count": 45,
   "metadata": {},
   "outputs": [
    {
     "name": "stdout",
     "output_type": "stream",
     "text": [
      "[22, 52, 55, 78, 98]\n",
      "You have added 21 to the list!\n",
      "The updated list is [21, 22, 52, 55, 78, 98]\n"
     ]
    }
   ],
   "source": [
    "#Assignment 4 / Insert an Element into a List\n",
    "\n",
    "import random\n",
    "list1 = []\n",
    "\n",
    "for i in range(5):\n",
    "    val = random.randint(1, 100)\n",
    "    list1.append(val)\n",
    "list1.sort()\n",
    "print(list1)\n",
    "\n",
    "addval = int(input('Enter value to add to the list: '))\n",
    "print(f'You have added {addval} to the list!')\n",
    "list1.append(addval)\n",
    "list1.sort()\n",
    "\n",
    "print(f'The updated list is {list1}')"
   ]
  },
  {
   "cell_type": "code",
   "execution_count": 31,
   "metadata": {},
   "outputs": [
    {
     "name": "stdout",
     "output_type": "stream",
     "text": [
      "[11, 15, 40, 71, 28, 29, 13, 78, 58, 68, 32, 45, 19, 13, 81, 80, 89, 69, 47, 88]\n",
      "The targeted value is 88\n",
      "The user input 88 to be deleted, the new list is [11, 15, 40, 71, 28, 29, 13, 78, 58, 68, 32, 45, 19, 13, 81, 80, 89, 69, 47]\n"
     ]
    }
   ],
   "source": [
    "#Assignment 5 / Delete an Element into a List\n",
    "\n",
    "import random\n",
    "list1 = []\n",
    "\n",
    "for i in range(20):\n",
    "    val = random.randint(1, 100)\n",
    "    list1.append(val)\n",
    "print(list1)\n",
    "\n",
    "delval = int(input('Enter a target value: '))\n",
    "print(f'The targeted value is {delval}')\n",
    "list1.remove(delval)\n",
    "\n",
    "\n",
    "print(f'The user input {delval} to be deleted, the new list is {list1}')"
   ]
  }
 ],
 "metadata": {
  "interpreter": {
   "hash": "b23c1829de45e80128221cfbbe48e43253e3486b78a8791b1ce1cebf22a83235"
  },
  "kernelspec": {
   "display_name": "Python 3.10.1 64-bit",
   "language": "python",
   "name": "python3"
  },
  "language_info": {
   "codemirror_mode": {
    "name": "ipython",
    "version": 3
   },
   "file_extension": ".py",
   "mimetype": "text/x-python",
   "name": "python",
   "nbconvert_exporter": "python",
   "pygments_lexer": "ipython3",
   "version": "3.10.1"
  },
  "orig_nbformat": 4
 },
 "nbformat": 4,
 "nbformat_minor": 2
}
