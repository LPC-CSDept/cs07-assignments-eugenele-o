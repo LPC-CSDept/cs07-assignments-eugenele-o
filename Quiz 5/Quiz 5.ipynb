{
 "cells": [
  {
   "cell_type": "code",
   "execution_count": 1,
   "metadata": {},
   "outputs": [
    {
     "name": "stdout",
     "output_type": "stream",
     "text": [
      "Your current list is [49, 66, 8, 42, 86, 99, 75, 0, 43, 60]\n",
      "Your new list is [49, 66, 8, 42, 86, 99, 75, 0, 43, 60]\n",
      "The final result is [66, 49, 8, 42, 86, 99, 75, 0, 43, 60]\n"
     ]
    }
   ],
   "source": [
    "#Quiz 5-1\n",
    "\n",
    "import random as rng\n",
    "list1 = []\n",
    "\n",
    "for i in range(10):\n",
    "  rngVal = rng.randint(0,100)\n",
    "  list1.insert(i, rngVal)\n",
    "print(f'Your current list is {list1}')\n",
    "\n",
    "tinyval = min(list1)\n",
    "list1[tinyval], list1[0] = list1[0], list1[tinyval]\n",
    "print(f'Your new list is {list1}')\n",
    "\n",
    "tinyval2 = min(list1[1:])\n",
    "list1[tinyval2], list1[1] = list1[1], list1[tinyval2]\n",
    "print(f'The final result is {list1}')"
   ]
  },
  {
   "cell_type": "code",
   "execution_count": 24,
   "metadata": {},
   "outputs": [
    {
     "name": "stdout",
     "output_type": "stream",
     "text": [
      "['Bill', 'Jim', 'Joe']\n",
      "[[100, 90, 90, 90], [100, 90, 80, 80], [100, 80, 90, 90]]\n",
      "The average score for Bill was 92.5 and the sum of scores for Bill was: 370\n",
      "The average score for Jim was 87.5 and the sum of scores for Jim was: 350\n",
      "The average score for Joe was 90.0 and the sum of scores for Joe was: 360\n",
      "In column 1 the average score was 100.00 and the sum of scores was 300\n",
      "In column 2 the average score was 86.67 and the sum of scores was 260\n",
      "In column 3 the average score was 86.67 and the sum of scores was 260\n",
      "In column 4 the average score was 86.67 and the sum of scores was 260\n"
     ]
    }
   ],
   "source": [
    "#Quiz 5-2\n",
    "\n",
    "rownum = int(input('How many total scores are there?: '))\n",
    "colnum = int(input('How many students are there?: '))\n",
    "list1 = []\n",
    "list2 = []\n",
    "\n",
    "for i in range(colnum):\n",
    "    list1.append(input('Please enter the student\\'s name: '))\n",
    "    list2.append([])\n",
    "    for i in range(rownum):\n",
    "        list2[-1].append(int(input('Please enter the scores for this student: ')))\n",
    "\n",
    "print(list1)\n",
    "print(list2)\n",
    "\n",
    "for i in range(len(list2)):\n",
    "    print(f'The average score for {list1[i]} was', sum(list2[i])/len(list2[i]), f'and the sum of scores for {list1[i]} was:', sum(list2[i]))\n",
    "    \n",
    "newscore = list(map(list, zip(*list2)))\n",
    "\n",
    "for i in range(len(newscore)):\n",
    "    print('In column', i + 1, 'the average score was {:.2f}'.format(sum(newscore[i]) / len(newscore[i])), 'and the sum of scores was', sum(newscore[i]))\n"
   ]
  },
  {
   "cell_type": "code",
   "execution_count": 2,
   "metadata": {},
   "outputs": [
    {
     "data": {
      "image/png": "[encoded data removed]",
      "text/plain": [
       "<Figure size 432x288 with 1 Axes>"
      ]
     },
     "metadata": {
      "needs_background": "light"
     },
     "output_type": "display_data"
    }
   ],
   "source": [
    "#Quiz 5-3\n",
    "\n",
    "import matplotlib.pyplot as plt\n",
    "import numpy as np\n",
    "\n",
    "x = np.arange(3)\n",
    "width = 0.15\n",
    "\n",
    "names = ['Bill', 'Jim','Joe']\n",
    "math1 = [100,100,100]\n",
    "english1 = [90,90,80]\n",
    "physics1 = [90,80,90]\n",
    "computer1 = [90,80,90]\n",
    "fig, ax = plt.subplots()\n",
    "\n",
    "english = ax.bar(x-width*1.5, math1, width,label='English')\n",
    "physics = ax.bar(x-width*.5,english1, width,label='Physics')\n",
    "math = ax.bar(x+width*.5, physics1, width,label='Math')\n",
    "computer = ax.bar(x+width*1.5, computer1, width,label='Computer')\n",
    "\n",
    "ax.set_title(\"Graph of Student Scores\")\n",
    "ax.set_xticks(x);ax.set_xticklabels(names)\n",
    "ax.legend( )\n",
    "\n",
    "ax.bar_label(math)\n",
    "ax.bar_label(english)\n",
    "ax.bar_label(physics)\n",
    "ax.bar_label(computer)\n",
    "\n",
    "plt.show()"
   ]
  }
 ],
 "metadata": {
  "interpreter": {
   "hash": "b23c1829de45e80128221cfbbe48e43253e3486b78a8791b1ce1cebf22a83235"
  },
  "kernelspec": {
   "display_name": "Python 3.10.1 64-bit",
   "language": "python",
   "name": "python3"
  },
  "language_info": {
   "codemirror_mode": {
    "name": "ipython",
    "version": 3
   },
   "file_extension": ".py",
   "mimetype": "text/x-python",
   "name": "python",
   "nbconvert_exporter": "python",
   "pygments_lexer": "ipython3",
   "version": "3.10.1"
  },
  "orig_nbformat": 4
 },
 "nbformat": 4,
 "nbformat_minor": 2
}
