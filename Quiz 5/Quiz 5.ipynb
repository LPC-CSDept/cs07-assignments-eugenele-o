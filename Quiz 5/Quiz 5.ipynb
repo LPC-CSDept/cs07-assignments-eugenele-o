{
 "cells": [
  {
   "cell_type": "code",
   "execution_count": 1,
   "metadata": {},
   "outputs": [
    {
     "name": "stdout",
     "output_type": "stream",
     "text": [
      "Your current list is [49, 66, 8, 42, 86, 99, 75, 0, 43, 60]\n",
      "Your new list is [49, 66, 8, 42, 86, 99, 75, 0, 43, 60]\n",
      "The final result is [66, 49, 8, 42, 86, 99, 75, 0, 43, 60]\n"
     ]
    }
   ],
   "source": [
    "#Quiz 5-1\n",
    "\n",
    "import random as rng\n",
    "list1 = []\n",
    "\n",
    "for i in range(10):\n",
    "  rngVal = rng.randint(0,100)\n",
    "  list1.insert(i, rngVal)\n",
    "print(f'Your current list is {list1}')\n",
    "\n",
    "tinyval = min(list1)\n",
    "list1[tinyval], list1[0] = list1[0], list1[tinyval]\n",
    "print(f'Your new list is {list1}')\n",
    "\n",
    "tinyval2 = min(list1[1:])\n",
    "list1[tinyval2], list1[1] = list1[1], list1[tinyval2]\n",
    "print(f'The final result is {list1}')"
   ]
  },
  {
   "cell_type": "code",
   "execution_count": null,
   "metadata": {},
   "outputs": [],
   "source": [
    "#Quiz 5-2\n",
    "\n"
   ]
  },
  {
   "cell_type": "code",
   "execution_count": 17,
   "metadata": {},
   "outputs": [
    {
     "data": {
      "image/png": "[encoded data removed]",
      "text/plain": [
       "<Figure size 432x288 with 1 Axes>"
      ]
     },
     "metadata": {
      "needs_background": "light"
     },
     "output_type": "display_data"
    }
   ],
   "source": [
    "#Quiz 5-3\n",
    "\n",
    "import matplotlib.pyplot as plt\n",
    "import numpy as np\n",
    "\n",
    "x = np.arange(3)\n",
    "width = 0.15\n",
    "\n",
    "names = ['Bill', 'Jim','Joe']\n",
    "math1 = [90,60,90]\n",
    "english1 = [80,70,80]\n",
    "physics1 = [30,85,90]\n",
    "computer1 = [100,90,90]\n",
    "fig, ax = plt.subplots()\n",
    "\n",
    "english = ax.bar(x-width*1.5, math1, width,label='English')\n",
    "physics = ax.bar(x-width*.5,english1, width,label='Physics')\n",
    "math = ax.bar(x+width*.5, physics1, width,label='Math')\n",
    "computer = ax.bar(x+width*1.5, computer1, width,label='Comp. Sci')\n",
    "\n",
    "ax.set_title(\"Graph of Student Scores\")\n",
    "ax.set_xticks(x);ax.set_xticklabels(names)\n",
    "ax.legend( )\n",
    "\n",
    "ax.bar_label(math)\n",
    "ax.bar_label(english)\n",
    "ax.bar_label(physics)\n",
    "ax.bar_label(computer)\n",
    "\n",
    "plt.show()"
   ]
  }
 ],
 "metadata": {
  "interpreter": {
   "hash": "b23c1829de45e80128221cfbbe48e43253e3486b78a8791b1ce1cebf22a83235"
  },
  "kernelspec": {
   "display_name": "Python 3.10.1 64-bit",
   "language": "python",
   "name": "python3"
  },
  "language_info": {
   "codemirror_mode": {
    "name": "ipython",
    "version": 3
   },
   "file_extension": ".py",
   "mimetype": "text/x-python",
   "name": "python",
   "nbconvert_exporter": "python",
   "pygments_lexer": "ipython3",
   "version": "3.10.1"
  },
  "orig_nbformat": 4
 },
 "nbformat": 4,
 "nbformat_minor": 2
}
