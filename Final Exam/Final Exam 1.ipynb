{
 "cells": [
  {
   "cell_type": "code",
   "execution_count": 70,
   "metadata": {},
   "outputs": [],
   "source": [
    "#Question 1\n",
    "\n",
    "from functools import reduce\n",
    "ca_file = open('ca2021.txt')\n",
    "fl_file = open('fl2021.txt')\n",
    "\n",
    "ca_male = []\n",
    "ca_male_num = []\n",
    "ca_female = []\n",
    "ca_female_num = []\n",
    "\n",
    "fl_male = []\n",
    "fl_male_num = []\n",
    "fl_female = []\n",
    "fl_female_num = []\n",
    "\n",
    "daters = []\n",
    "labels = ['state','name','gender','number']"
   ]
  },
  {
   "cell_type": "code",
   "execution_count": 82,
   "metadata": {},
   "outputs": [],
   "source": [
    "#Question 2\n",
    "\n",
    "for line in ca_file:\n",
    "  line = line.replace(\"\\n\" ,\"\")\n",
    "  line = line.split(' ')\n",
    "  ca_male.append(line[1])\n",
    "  ca_male_num.append(line[2])\n",
    "  ca_female.append(line[3])\n",
    "  ca_female_num.append(line[4])\n",
    "\n",
    "for line in fl_file:\n",
    "  line = line.replace(\"\\n\\\",\")\n",
    "  line = line.split(' ')\n",
    "  fl_male.append(line[1])\n",
    "  fl_male_num.append(line[2])\n",
    "  fl_female.append(line[3])\n",
    "  fl_female_num.append(line[4])\n",
    "\n",
    "for i in range(len(fl_male)):\n",
    "  data = ['FL']+[fl_male[i]]+['Male']+[fl_male_num[i]]\n",
    "  daters.append(dict(zip(labels,data)))\n",
    "  \n",
    "for i in range(len(fl_female)):\n",
    "  data = ['FL']+[fl_female[i]]+['Female']+[fl_female_num[i]]\n",
    "  daters.append(dict(zip(labels,data)))\n",
    "  \n",
    "for i in range(len(ca_male)):\n",
    "  data = ['CA']+[ca_male[i]]+['Male']+[ca_male_num[i]]\n",
    "  daters.append(dict(zip(labels,data)))\n",
    "  \n",
    "for i in range(len(ca_female)):\n",
    "  data = ['CA']+[ca_female[i]]+['Female']+[ca_female_num[i]]\n",
    "  daters.append(dict(zip(labels,data)))"
   ]
  },
  {
   "cell_type": "code",
   "execution_count": 83,
   "metadata": {},
   "outputs": [
    {
     "name": "stdout",
     "output_type": "stream",
     "text": [
      "{'state': 'CA', 'name': 'Luca', 'gender': 'Male', 'number': '999'}\n",
      "{'state': 'CA', 'name': 'Luca', 'gender': 'Male', 'number': '999'}\n",
      "{'state': 'CA', 'name': 'Luca', 'gender': 'Male', 'number': '999'}\n",
      "{'state': 'CA', 'name': 'Luca', 'gender': 'Male', 'number': '999'}\n",
      "{'state': 'CA', 'name': 'Nathan', 'gender': 'Male', 'number': '992'}\n",
      "{'state': 'CA', 'name': 'Nathan', 'gender': 'Male', 'number': '992'}\n",
      "{'state': 'CA', 'name': 'Nathan', 'gender': 'Male', 'number': '992'}\n",
      "{'state': 'CA', 'name': 'Nathan', 'gender': 'Male', 'number': '992'}\n",
      "{'state': 'CA', 'name': 'Leonardo', 'gender': 'Male', 'number': '943'}\n",
      "{'state': 'CA', 'name': 'Leonardo', 'gender': 'Male', 'number': '943'}\n",
      "-------------------------------------\n",
      "{'state': 'FL', 'name': 'Emily', 'gender': 'Female', 'number': '483'}\n",
      "{'state': 'FL', 'name': 'Emily', 'gender': 'Female', 'number': '483'}\n",
      "{'state': 'FL', 'name': 'Emily', 'gender': 'Female', 'number': '483'}\n",
      "{'state': 'FL', 'name': 'Emily', 'gender': 'Female', 'number': '483'}\n",
      "{'state': 'FL', 'name': 'Elizabeth', 'gender': 'Female', 'number': '447'}\n",
      "{'state': 'FL', 'name': 'Elizabeth', 'gender': 'Female', 'number': '447'}\n",
      "{'state': 'FL', 'name': 'Elizabeth', 'gender': 'Female', 'number': '447'}\n",
      "{'state': 'FL', 'name': 'Elizabeth', 'gender': 'Female', 'number': '447'}\n",
      "{'state': 'FL', 'name': 'Ella', 'gender': 'Female', 'number': '422'}\n",
      "{'state': 'FL', 'name': 'Ella', 'gender': 'Female', 'number': '422'}\n",
      "-------------------------------------\n"
     ]
    }
   ],
   "source": [
    "#Question 3\n",
    "ca_males = list(filter(lambda x: x['state'] == 'CA' and x['gender'] == 'Male', daters))\n",
    "ca_males = sorted(ca_males, key=lambda x: x['number'], reverse=True)\n",
    "\n",
    "for people in ca_males[:10]:\n",
    "  print(people)\n",
    "\n",
    "print('-------------------------------------')\n",
    "\n",
    "fl_females = list(filter(lambda x: x['state'] == 'FL' and x['gender'] == 'Female', daters))\n",
    "\n",
    "fl_femalesE = list(filter(lambda x: x['name'][0]=='E', fl_females))\n",
    "fl_femalesE = sorted(fl_femalesE, key=lambda x: x['number'], reverse=True)\n",
    "\n",
    "for people in fl_femalesE[:10]:\n",
    "  print(people)\n",
    "\n",
    "print('-------------------------------------')"
   ]
  },
  {
   "cell_type": "code",
   "execution_count": 84,
   "metadata": {},
   "outputs": [
    {
     "name": "stdout",
     "output_type": "stream",
     "text": [
      "114132\n"
     ]
    }
   ],
   "source": [
    "#Question 4\n",
    "\n",
    "fl_females = list(map(lambda x:int(x[\"number\"].replace(\",\",\"\")),fl_females))\n",
    "sumnum = lambda x,y: x+y\n",
    "total_number = reduce(sumnum, fl_females, 0)\n",
    "\n",
    "print(total_number)"
   ]
  }
 ],
 "metadata": {
  "interpreter": {
   "hash": "138a5ec8d2cd4c43eea359047f218a9f0915fbe5edac97783088b1060435eff7"
  },
  "kernelspec": {
   "display_name": "Python 3.9.7 ('base')",
   "language": "python",
   "name": "python3"
  },
  "language_info": {
   "codemirror_mode": {
    "name": "ipython",
    "version": 3
   },
   "file_extension": ".py",
   "mimetype": "text/x-python",
   "name": "python",
   "nbconvert_exporter": "python",
   "pygments_lexer": "ipython3",
   "version": "3.9.7"
  },
  "orig_nbformat": 4
 },
 "nbformat": 4,
 "nbformat_minor": 2
}
