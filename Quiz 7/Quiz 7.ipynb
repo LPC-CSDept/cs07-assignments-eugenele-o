{
 "cells": [
  {
   "cell_type": "code",
   "execution_count": 4,
   "metadata": {},
   "outputs": [
    {
     "name": "stdout",
     "output_type": "stream",
     "text": [
      "Titles: ['ID', 'Name', 'Scores']\n",
      "IDs: [1001.0, 1002.0, 1003.0, 1004.0, 1005.0]\n",
      "Name: ['Kim', 'Bill', 'Mary', 'Kurt', 'Amy']\n",
      "Scores: [[100.0, 80.0, 70.0, 60.0], [100.0, 90.0, 80.0, 60.0], [90.0, 80.0, 70.0, 100.0], [100.0, 100.0, 100.0, 90.0], [100.0, 80.0, 80.0, 90.0]]\n"
     ]
    }
   ],
   "source": [
    "#Quiz 7-1 / Making a list out of a file\n",
    "\n",
    "import xlrd\n",
    "import functools\n",
    "\n",
    "xfile = 'student.xls'\n",
    "\n",
    "def printValues(x):\n",
    "  for i in x:\n",
    "    print(int(i[\"IDs\"]), end=\" \")\n",
    "    print(i[\"names\"], end= \" \")\n",
    "    print(i[\"Scores\"])\n",
    "  \n",
    "work_book = xlrd.open_workbook(xfile)\n",
    "sheet = work_book.sheet_by_index(0)\n",
    "\n",
    "total_rows = sheet.nrows\n",
    "total_columns = sheet.ncols\n",
    "\n",
    "titles = []\n",
    "IDs = []\n",
    "names = []\n",
    "scores = []\n",
    "\n",
    "for i in range(total_rows):\n",
    "  totals = []\n",
    "  for o in range(total_columns):\n",
    "    if(sheet.cell_value(i,o)):\n",
    "      if(i == 0):   \n",
    "          titles.append(sheet.cell_value(i,o))\n",
    "      elif(o == 0):\n",
    "        IDs.append(sheet.cell_value(i,o))\n",
    "      elif(o == 1):\n",
    "        names.append(sheet.cell_value(i,o))\n",
    "      else:\n",
    "        totals.append(sheet.cell_value(i,o))\n",
    "  if(totals):\n",
    "    scores.append(totals)\n",
    "\n",
    "print(\"Titles:\",titles)\n",
    "print(\"IDs:\",IDs)\n",
    "print(\"Names:\",names)\n",
    "print(\"Scores:\",scores)"
   ]
  },
  {
   "cell_type": "code",
   "execution_count": null,
   "metadata": {},
   "outputs": [],
   "source": [
    "#Quiz 7-2 / Make a list of dictionaries\n",
    "\n",
    "arrangement = []\n",
    "\n",
    "for i in range(len(names)):\n",
    "  zipper = [id[i], names[i], scores[i]]\n",
    "  arrangement.append(dict(zip(titles, zipper)))\n",
    "\n",
    "printValues(arrangement)"
   ]
  }
 ],
 "metadata": {
  "interpreter": {
   "hash": "60bb6a118000e59fe8e5a8a00e65c88cecf0a5795ec79fd4a95ab0f91779f360"
  },
  "kernelspec": {
   "display_name": "Python 3.10.1 64-bit",
   "language": "python",
   "name": "python3"
  },
  "language_info": {
   "codemirror_mode": {
    "name": "ipython",
    "version": 3
   },
   "file_extension": ".py",
   "mimetype": "text/x-python",
   "name": "python",
   "nbconvert_exporter": "python",
   "pygments_lexer": "ipython3",
   "version": "3.10.1"
  },
  "orig_nbformat": 4
 },
 "nbformat": 4,
 "nbformat_minor": 2
}
