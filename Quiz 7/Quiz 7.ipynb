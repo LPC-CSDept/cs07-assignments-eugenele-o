{
 "cells": [
  {
   "cell_type": "code",
   "execution_count": 29,
   "metadata": {},
   "outputs": [
    {
     "name": "stdout",
     "output_type": "stream",
     "text": [
      "Titles: ['ID', 'Name', 'Scores']\n",
      "IDs: [1001.0, 1002.0, 1003.0, 1004.0, 1005.0]\n",
      "Names: ['Kim', 'Bill', 'Mary', 'Kurt', 'Amy']\n",
      "Scores: [[100.0, 80.0, 70.0, 60.0], [100.0, 90.0, 80.0, 60.0], [90.0, 80.0, 70.0, 100.0], [100.0, 100.0, 100.0, 90.0], [100.0, 80.0, 80.0, 90.0]]\n"
     ]
    }
   ],
   "source": [
    "#Quiz 7-1 / Making a list out of a file\n",
    "\n",
    "import xlrd\n",
    "import functools\n",
    "\n",
    "xfile = 'student.xls'\n",
    "\n",
    "def printValues(x):\n",
    "  for i in x:\n",
    "    print(int(i[\"IDs\"]), end=\" \")\n",
    "    print(i[\"Names\"], end= \" \")\n",
    "    print(i[\"Scores\"])\n",
    "  \n",
    "work_book = xlrd.open_workbook(xfile)\n",
    "sheet = work_book.sheet_by_index(0)\n",
    "\n",
    "total_rows = sheet.nrows\n",
    "total_columns = sheet.ncols\n",
    "\n",
    "titles = []\n",
    "IDs = []\n",
    "names = []\n",
    "scores = []\n",
    "\n",
    "for i in range(total_rows):\n",
    "  totals = []\n",
    "  for o in range(total_columns):\n",
    "    if(sheet.cell_value(i,o)):\n",
    "      if(i == 0):   \n",
    "          titles.append(sheet.cell_value(i,o))\n",
    "      elif(o == 0):\n",
    "        IDs.append(sheet.cell_value(i,o))\n",
    "      elif(o == 1):\n",
    "        names.append(sheet.cell_value(i,o))\n",
    "      else:\n",
    "        totals.append(sheet.cell_value(i,o))\n",
    "  if(totals):\n",
    "    scores.append(totals)\n",
    "\n",
    "print(\"Titles:\",titles)\n",
    "print(\"IDs:\",IDs)\n",
    "print(\"Names:\",names)\n",
    "print(\"Scores:\",scores)"
   ]
  },
  {
   "cell_type": "code",
   "execution_count": 37,
   "metadata": {},
   "outputs": [
    {
     "ename": "TypeError",
     "evalue": "'builtin_function_or_method' object is not subscriptable",
     "output_type": "error",
     "traceback": [
      "\u001b[1;31m---------------------------------------------------------------------------\u001b[0m",
      "\u001b[1;31mTypeError\u001b[0m                                 Traceback (most recent call last)",
      "\u001b[1;32mc:\\Users\\marxo\\github-classroom\\LPC-CSDept\\cs07-assignments-eugenele-o\\Quiz 7\\Quiz 7.ipynb Cell 2'\u001b[0m in \u001b[0;36m<module>\u001b[1;34m\u001b[0m\n\u001b[0;32m      <a href='vscode-notebook-cell:/c%3A/Users/marxo/github-classroom/LPC-CSDept/cs07-assignments-eugenele-o/Quiz%207/Quiz%207.ipynb#ch0000001?line=2'>3</a>\u001b[0m arrangement \u001b[39m=\u001b[39m []\n\u001b[0;32m      <a href='vscode-notebook-cell:/c%3A/Users/marxo/github-classroom/LPC-CSDept/cs07-assignments-eugenele-o/Quiz%207/Quiz%207.ipynb#ch0000001?line=4'>5</a>\u001b[0m \u001b[39mfor\u001b[39;00m i \u001b[39min\u001b[39;00m \u001b[39mrange\u001b[39m(\u001b[39mlen\u001b[39m(names)):\n\u001b[1;32m----> <a href='vscode-notebook-cell:/c%3A/Users/marxo/github-classroom/LPC-CSDept/cs07-assignments-eugenele-o/Quiz%207/Quiz%207.ipynb#ch0000001?line=5'>6</a>\u001b[0m   zipper \u001b[39m=\u001b[39m [\u001b[39mid\u001b[39;49m[i], names[i], scores[i]]\n\u001b[0;32m      <a href='vscode-notebook-cell:/c%3A/Users/marxo/github-classroom/LPC-CSDept/cs07-assignments-eugenele-o/Quiz%207/Quiz%207.ipynb#ch0000001?line=6'>7</a>\u001b[0m   arrangement\u001b[39m.\u001b[39mappend(\u001b[39mdict\u001b[39m(\u001b[39mzip\u001b[39m(titles, zipper)))\n\u001b[0;32m      <a href='vscode-notebook-cell:/c%3A/Users/marxo/github-classroom/LPC-CSDept/cs07-assignments-eugenele-o/Quiz%207/Quiz%207.ipynb#ch0000001?line=8'>9</a>\u001b[0m printValues(arrangement)\n",
      "\u001b[1;31mTypeError\u001b[0m: 'builtin_function_or_method' object is not subscriptable"
     ]
    }
   ],
   "source": [
    "#Quiz 7-2 / Make a list of dictionaries\n",
    "\n",
    "arrangement = []\n",
    "\n",
    "for i in range(len(names)):\n",
    "  zipper = [id[i], names[i], scores[i]]\n",
    "  arrangement.append(dict(zip(titles, zipper)))\n",
    "\n",
    "printValues(arrangement)"
   ]
  },
  {
   "cell_type": "code",
   "execution_count": 38,
   "metadata": {},
   "outputs": [
    {
     "name": "stdout",
     "output_type": "stream",
     "text": [
      "[{'ID': 1001.0, 'Name': 'Kim', 'Scores': [100.0, 80.0, 70.0, 60.0]}, {'ID': 1002.0, 'Name': 'Bill', 'Scores': [100.0, 90.0, 80.0, 60.0]}, {'ID': 1003.0, 'Name': 'Mary', 'Scores': [90.0, 80.0, 70.0, 100.0]}, {'ID': 1004.0, 'Name': 'Kurt', 'Scores': [100.0, 100.0, 100.0, 90.0]}, {'ID': 1005.0, 'Name': 'Amy', 'Scores': [100.0, 80.0, 80.0, 90.0]}]\n"
     ]
    }
   ],
   "source": [
    "#Quiz 7-3 / Filter out scores\n",
    "\n",
    "l1 = []\n",
    "combinedvals = zip(IDs, names, scores)\n",
    "\n",
    "for d in combinedvals:\n",
    "    dict1 = dict(zip(titles, d))\n",
    "    l1.append(dict1)\n",
    "print(l1)\n"
   ]
  },
  {
   "cell_type": "code",
   "execution_count": 39,
   "metadata": {},
   "outputs": [],
   "source": [
    "#Quiz 7-4 / Show the scores of each student\n",
    "\n",
    "eqX = lambda x, y : x+y\n",
    "\n",
    "for i in arrangement:\n",
    "  print(int(i[\"ID\"]), end=\" \")\n",
    "  print(i[\"Name\"], end= \" \")\n",
    "  print((functools.reduce(eqX, i[\"Scores\"])))"
   ]
  },
  {
   "cell_type": "code",
   "execution_count": 40,
   "metadata": {},
   "outputs": [],
   "source": [
    "#Quiz 7-5 / Changing ID's\n",
    "\n",
    "def eqX (x):\n",
    "  x[\"ID\"] = int(x[\"ID\"]+10000000)\n",
    "  return x\n",
    "\n",
    "arrangement = map(eqX,arrangement)\n",
    "\n",
    "printValues(arrangement)"
   ]
  }
 ],
 "metadata": {
  "interpreter": {
   "hash": "60bb6a118000e59fe8e5a8a00e65c88cecf0a5795ec79fd4a95ab0f91779f360"
  },
  "kernelspec": {
   "display_name": "Python 3.10.1 64-bit",
   "language": "python",
   "name": "python3"
  },
  "language_info": {
   "codemirror_mode": {
    "name": "ipython",
    "version": 3
   },
   "file_extension": ".py",
   "mimetype": "text/x-python",
   "name": "python",
   "nbconvert_exporter": "python",
   "pygments_lexer": "ipython3",
   "version": "3.10.1"
  },
  "orig_nbformat": 4
 },
 "nbformat": 4,
 "nbformat_minor": 2
}
