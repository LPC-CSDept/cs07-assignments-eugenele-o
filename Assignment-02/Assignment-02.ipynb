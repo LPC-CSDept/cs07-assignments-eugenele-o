{
 "cells": [
  {
   "cell_type": "code",
   "execution_count": 1,
   "metadata": {},
   "outputs": [
    {
     "name": "stdout",
     "output_type": "stream",
     "text": [
      "In Fahrenheit, it is approximately 73.4 degrees\n"
     ]
    }
   ],
   "source": [
    "#Celsius to Fahrenheit Converter\n",
    "C = int(input('Enter Your Number in Celcius: '))\n",
    "F = (9/5)*C + 32\n",
    "\n",
    "print(f'In Fahrenheit, it is approximately {F} degrees')"
   ]
  },
  {
   "cell_type": "code",
   "execution_count": 2,
   "metadata": {},
   "outputs": [
    {
     "name": "stdout",
     "output_type": "stream",
     "text": [
      "The total number of males in your class is 41.67% and the total number of females in your class is 58.33%\n"
     ]
    }
   ],
   "source": [
    "#Male to Female Ratio Calculator\n",
    "malecount = int(input('How many males are in your class?: '))\n",
    "femalecount = int(input('How many females are in your class?: '))\n",
    "\n",
    "totalstudents = malecount + femalecount\n",
    "\n",
    "malepercent = malecount / totalstudents\n",
    "femalepercent = femalecount / totalstudents\n",
    "\n",
    "print('The total number of males in your class is', format(malepercent, '.2%'), 'and the total number of females in your class is', format(femalepercent, '.2%'))"
   ]
  }
 ],
 "metadata": {
  "interpreter": {
   "hash": "b23c1829de45e80128221cfbbe48e43253e3486b78a8791b1ce1cebf22a83235"
  },
  "kernelspec": {
   "display_name": "Python 3.10.1 64-bit",
   "language": "python",
   "name": "python3"
  },
  "language_info": {
   "codemirror_mode": {
    "name": "ipython",
    "version": 3
   },
   "file_extension": ".py",
   "mimetype": "text/x-python",
   "name": "python",
   "nbconvert_exporter": "python",
   "pygments_lexer": "ipython3",
   "version": "3.10.1"
  },
  "orig_nbformat": 4
 },
 "nbformat": 4,
 "nbformat_minor": 2
}
