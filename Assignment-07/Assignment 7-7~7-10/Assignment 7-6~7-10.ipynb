{
 "cells": [
  {
   "cell_type": "code",
   "execution_count": 2,
   "metadata": {},
   "outputs": [
    {
     "name": "stdout",
     "output_type": "stream",
     "text": [
      "[1, 2, 3, 4, 5, 6, 7]\n"
     ]
    }
   ],
   "source": [
    "#Assignment 7 / Merge Two Lists\n",
    "\n",
    "num1 = [1, 2, 3]\n",
    "num2 = [4, 5, 6, 7]\n",
    "\n",
    "if (len(num1)) < len(num2):\n",
    "  num3 = num1 + num2\n",
    "else:\n",
    "  num3 = num2 + num1\n",
    "\n",
    "print(num3)"
   ]
  },
  {
   "cell_type": "code",
   "execution_count": 11,
   "metadata": {},
   "outputs": [
    {
     "name": "stdout",
     "output_type": "stream",
     "text": [
      "[3, 23, 21, 1, 4, 4]\n"
     ]
    }
   ],
   "source": [
    "#Assignment 8 / Shuffle Two Lists\n",
    "\n"
   ]
  },
  {
   "cell_type": "code",
   "execution_count": 12,
   "metadata": {},
   "outputs": [
    {
     "name": "stdout",
     "output_type": "stream",
     "text": [
      "['Twenty', 3]\n",
      "['Twenty', 'Twenty', 'Two Twenty']\n",
      "Twenty is present at least once in every string that was printed\n"
     ]
    }
   ],
   "source": [
    "#Assignment 9 / Substring\n",
    "\n",
    "list1 = []\n",
    "keyword = input(\"Enter keyword\")\n",
    "\n",
    "list1.append(keyword)\n",
    "totalval = int(input(\"Enter the Number of Values: \"))\n",
    "list1.append (totalval)\n",
    "print (list1)\n",
    "\n",
    "list2 = []\n",
    "for i in range(totalval):\n",
    "    user_string = input(\"Enter some words: \")\n",
    "    list2.append(user_string)\n",
    "print(list2)\n",
    "if keyword in list2:\n",
    "    print(f'{keyword} is present at least once in every string that was printed')\n",
    "else:\n",
    "    print(f'{keyword} is not present in at least 1 string!')"
   ]
  },
  {
   "cell_type": "code",
   "execution_count": null,
   "metadata": {},
   "outputs": [],
   "source": [
    "#Assignment 10 / Two-Dimensional List\n",
    "\n"
   ]
  }
 ],
 "metadata": {
  "interpreter": {
   "hash": "b23c1829de45e80128221cfbbe48e43253e3486b78a8791b1ce1cebf22a83235"
  },
  "kernelspec": {
   "display_name": "Python 3.10.1 64-bit",
   "language": "python",
   "name": "python3"
  },
  "language_info": {
   "codemirror_mode": {
    "name": "ipython",
    "version": 3
   },
   "file_extension": ".py",
   "mimetype": "text/x-python",
   "name": "python",
   "nbconvert_exporter": "python",
   "pygments_lexer": "ipython3",
   "version": "3.10.1"
  },
  "orig_nbformat": 4
 },
 "nbformat": 4,
 "nbformat_minor": 2
}
