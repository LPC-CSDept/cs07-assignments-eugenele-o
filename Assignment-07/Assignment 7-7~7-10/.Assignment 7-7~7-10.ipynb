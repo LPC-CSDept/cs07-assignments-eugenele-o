{
 "cells": [
  {
   "cell_type": "code",
   "execution_count": 2,
   "metadata": {},
   "outputs": [
    {
     "name": "stdout",
     "output_type": "stream",
     "text": [
      "[1, 2, 3, 4, 5, 6, 7]\n"
     ]
    }
   ],
   "source": [
    "#Assignment 7 / Merge Two Lists\n",
    "\n",
    "num1 = [1, 2, 3]\n",
    "num2 = [4, 5, 6, 7]\n",
    "\n",
    "if (len(num1)) < len(num2):\n",
    "  num3 = num1 + num2\n",
    "else:\n",
    "  num3 = num2 + num1\n",
    "\n",
    "print(num3)"
   ]
  },
  {
   "cell_type": "code",
   "execution_count": 12,
   "metadata": {},
   "outputs": [
    {
     "name": "stdout",
     "output_type": "stream",
     "text": [
      "The total values in the first list is 3\n",
      "[12, 21, 39]\n",
      "The total values in the second list is 4\n",
      "[63, 21, 1, 4]\n",
      "Your new shuffled list is [12, 63, 21, 21, 39, 1, 4]\n"
     ]
    }
   ],
   "source": [
    "#Assignment 8 / Shuffle Two Lists\n",
    "\n",
    "list1 = []\n",
    "list2 = []\n",
    "list3 = []\n",
    "\n",
    "totalval1 = int(input('How many values will be present in the list?: '))\n",
    "for i in range(totalval1):\n",
    "    list1.append(int(input(\"Enter a value for the list: \")))\n",
    "\n",
    "print(f'The total values in the first list is {totalval1}')\n",
    "print(list1)\n",
    "\n",
    "totalval2 = int(input('How many values will be present in the second list?: '))\n",
    "for i in range(totalval2):\n",
    "    list2.append(int(input('Enter values for the second list: ')))\n",
    "\n",
    "print(f'The total values in the second list is {totalval2}')\n",
    "print(list2)\n",
    "\n",
    "if len(list1) > len(list2):\n",
    "    domval = list1\n",
    "else:\n",
    "    domval = list2\n",
    "\n",
    "for i in range(len(domval)):\n",
    "    try:\n",
    "        list3.append(list1[i])\n",
    "    except:\n",
    "        pass\n",
    "    try:\n",
    "        list3.append(list2[i])\n",
    "    except:\n",
    "        pass\n",
    "\n",
    "print (f'Your new shuffled list is {list3}')"
   ]
  },
  {
   "cell_type": "code",
   "execution_count": 12,
   "metadata": {},
   "outputs": [
    {
     "name": "stdout",
     "output_type": "stream",
     "text": [
      "['Twenty', 3]\n",
      "['Twenty', 'Twenty', 'Two Twenty']\n",
      "Twenty is present at least once in every string that was printed\n"
     ]
    }
   ],
   "source": [
    "#Assignment 9 / Substring\n",
    "\n",
    "list1 = []\n",
    "keyword = input(\"Enter keyword\")\n",
    "\n",
    "list1.append(keyword)\n",
    "totalval = int(input(\"Enter the Number of Values: \"))\n",
    "list1.append (totalval)\n",
    "print (list1)\n",
    "\n",
    "list2 = []\n",
    "for i in range(totalval):\n",
    "    user_string = input(\"Enter some words: \")\n",
    "    list2.append(user_string)\n",
    "print(list2)\n",
    "if keyword in list2:\n",
    "    print(f'{keyword} is present at least once in every string that was printed')\n",
    "else:\n",
    "    print(f'{keyword} is not present in at least 1 string!')"
   ]
  },
  {
   "cell_type": "code",
   "execution_count": 33,
   "metadata": {},
   "outputs": [
    {
     "name": "stdout",
     "output_type": "stream",
     "text": [
      "92 89 30 99 \n",
      "91 14 15 11 \n",
      "87 20 72 80 \n",
      "310 is the largest sum in all of the rows \n",
      "270 is the largest sum in all of the columns\n"
     ]
    }
   ],
   "source": [
    "#Assignment 10 / Two-Dimensional List\n",
    "\n",
    "import random as rng\n",
    "totalrows = int(input(\"Enter row amount: \"))\n",
    "totalcolumns = int(input(\"Enter column amount: \"))\n",
    "\n",
    "list1 = []\n",
    "for i in range(totalrows):\n",
    "  row = []\n",
    "  for j in range(totalcolumns):\n",
    "    row.append(rng.randint(0, 100))\n",
    "  list1.append(row)\n",
    "\n",
    "for i in range(totalrows):\n",
    "  for j in range(totalcolumns):\n",
    "    print(list1[i][j], end = \" \")\n",
    "  print()\n",
    "\n",
    "maxrowsum = 0\n",
    "maxcolumnsum = 0\n",
    "\n",
    "for i in range(totalrows):\n",
    "  sum1 = sum(list1[i])\n",
    "  if sum1 > maxrowsum:\n",
    "    maxrowsum = sum1\n",
    "\n",
    "for i in range(totalcolumns):\n",
    "  sum2 = 0\n",
    "  for j in range(totalrows):\n",
    "    sum2 += list1[j][i]\n",
    "  if sum2 > maxcolumnsum:\n",
    "    maxcolumnsum = sum2\n",
    "\n",
    "print(f'{maxrowsum} is the largest sum in all of the rows \\n{maxcolumnsum} is the largest sum in all of the columns')"
   ]
  }
 ],
 "metadata": {
  "interpreter": {
   "hash": "b23c1829de45e80128221cfbbe48e43253e3486b78a8791b1ce1cebf22a83235"
  },
  "kernelspec": {
   "display_name": "Python 3.10.1 64-bit",
   "language": "python",
   "name": "python3"
  },
  "language_info": {
   "codemirror_mode": {
    "name": "ipython",
    "version": 3
   },
   "file_extension": ".py",
   "mimetype": "text/x-python",
   "name": "python",
   "nbconvert_exporter": "python",
   "pygments_lexer": "ipython3",
   "version": "3.10.1"
  },
  "orig_nbformat": 4
 },
 "nbformat": 4,
 "nbformat_minor": 2
}
