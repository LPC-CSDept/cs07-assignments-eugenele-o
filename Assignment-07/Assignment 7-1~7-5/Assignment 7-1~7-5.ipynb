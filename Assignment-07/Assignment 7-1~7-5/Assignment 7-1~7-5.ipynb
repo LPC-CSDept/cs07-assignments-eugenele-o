{
 "cells": [
  {
   "cell_type": "code",
   "execution_count": 2,
   "metadata": {},
   "outputs": [
    {
     "name": "stdout",
     "output_type": "stream",
     "text": [
      "[20, 15, 0, 3]\n",
      "The minimum value is: 0\n",
      "The maximum value is: 20\n",
      "The total sum is: 18\n",
      "The total average is: 9.0\n"
     ]
    }
   ],
   "source": [
    "#Assignment 1 / Summation of Numbers Without Negatives, Minimum, or Max Values\n",
    "\n",
    "userlist = []\n",
    "i = 0; total = 0\n",
    "\n",
    "while True:\n",
    "  userval = int(input('Please input a number: '))\n",
    "  if (userval < 0):\n",
    "    break\n",
    "  total += userval\n",
    "  userlist.append(userval)\n",
    "\n",
    "print(userlist)\n",
    "\n",
    "minval = min(userlist)\n",
    "maxval = max(userlist)\n",
    "\n",
    "total = total - maxval - minval\n",
    "average = total / (len(userlist) - 2)\n",
    "\n",
    "print('The minimum value is: {0}'.format(minval))\n",
    "print('The maximum value is: {0}'.format(maxval))\n",
    "print('The total sum is: {0}\\nThe total average is: {1}'.format(total, average))"
   ]
  },
  {
   "cell_type": "code",
   "execution_count": null,
   "metadata": {},
   "outputs": [],
   "source": [
    "#Assignment 2 / Calculate the Distance From the Average Value\n",
    "\n"
   ]
  },
  {
   "cell_type": "code",
   "execution_count": 1,
   "metadata": {},
   "outputs": [
    {
     "name": "stdout",
     "output_type": "stream",
     "text": [
      "False\n"
     ]
    }
   ],
   "source": [
    "#Assignment 3 / Determine the Sub-array\n",
    "\n",
    "list1 = [10 , 5 , 20 , 0 , 40 , 45 , 50]\n",
    "list2 = [40 , 5 , 10 , 55]\n",
    "\n",
    "for i in range(len(list2)):\n",
    "  if (list2[i] in list1 ):\n",
    "    continue\n",
    "  else:\n",
    "    flag = 1\n",
    "    break\n",
    "if (flag):\n",
    "  print('False')\n",
    "else:\n",
    "  print('True')"
   ]
  }
 ],
 "metadata": {
  "interpreter": {
   "hash": "b23c1829de45e80128221cfbbe48e43253e3486b78a8791b1ce1cebf22a83235"
  },
  "kernelspec": {
   "display_name": "Python 3.10.1 64-bit",
   "language": "python",
   "name": "python3"
  },
  "language_info": {
   "codemirror_mode": {
    "name": "ipython",
    "version": 3
   },
   "file_extension": ".py",
   "mimetype": "text/x-python",
   "name": "python",
   "nbconvert_exporter": "python",
   "pygments_lexer": "ipython3",
   "version": "3.10.1"
  },
  "orig_nbformat": 4
 },
 "nbformat": 4,
 "nbformat_minor": 2
}
