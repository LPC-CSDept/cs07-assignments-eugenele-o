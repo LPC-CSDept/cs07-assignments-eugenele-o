{
 "cells": [
  {
   "cell_type": "code",
   "execution_count": 13,
   "metadata": {},
   "outputs": [
    {
     "name": "stdout",
     "output_type": "stream",
     "text": [
      "1001 Kim 100 80 70 60 Total: 310 Avg: 77.5\n",
      "1002 Bill 100 90 80 60 Total: 330 Avg: 82.5\n",
      "1003 Mary 90 80 70 100 Total: 340 Avg: 85.0\n",
      "The student with the highest total score is Mary with an id of 1003\n",
      "The student with the smallest total score is Kim with an id of 1001\n"
     ]
    }
   ],
   "source": [
    "#Quiz 6-1 / Student Quiz Scores\n",
    "\n",
    "id = []\n",
    "name = []\n",
    "scores = []\n",
    "\n",
    "def getInput():\n",
    "  for i in range(int(input('How many total students are there?: '))):\n",
    "    id.append(input())\n",
    "    name.append(input())\n",
    "    scores.append([])\n",
    "    for j in range(4):\n",
    "      scores[-1].append(int(input()))\n",
    "\n",
    "def findHighestScore():\n",
    "  idx = 0\n",
    "  highest = float(\"-inf\")\n",
    "\n",
    "  for i in range(len(scores)):\n",
    "    if(sum(scores[i]) > highest):\n",
    "      highest = sum(scores[i])\n",
    "      idx = i\n",
    "\n",
    "  return idx\n",
    "\n",
    "def findLowestScore():\n",
    "  idx = 0\n",
    "  smallest = float(\"inf\")\n",
    "\n",
    "  for i in range(len(scores)):\n",
    "    if(sum(scores[i]) < smallest):\n",
    "      smallest = sum(scores[i])\n",
    "      idx = i\n",
    "  \n",
    "  return idx\n",
    "\n",
    "def printAll():\n",
    "  for i in range(len(id)):\n",
    "    blankstr = \"\"\n",
    "    for j in scores[i]:\n",
    "      blankstr += str(j) + \" \"\n",
    "    blankstr = blankstr[0:-1]\n",
    "    print(id[i], name[i], blankstr, 'Total:', sum(scores[i]), 'Avg:', sum(scores[i])/4)\n",
    "\n",
    "getInput()\n",
    "printAll()\n",
    "high_sco = findHighestScore()\n",
    "\n",
    "print(\"The student with the highest total score is\", name[high_sco], \"with an id of\", id[high_sco])\n",
    "low_sco = findLowestScore()\n",
    "print(\"The student with the smallest total score is\", name[low_sco], \"with an id of\", id[low_sco])"
   ]
  },
  {
   "cell_type": "code",
   "execution_count": null,
   "metadata": {},
   "outputs": [],
   "source": [
    "#Quiz 6-2 / Lambda and Yield\n",
    "\n",
    "l1 = [1,2,4,7,9,4]\n",
    "l2 = [1,4,6,10,12,5,10]\n",
    "getevens = lambda x : x % 2 == 0"
   ]
  }
 ],
 "metadata": {
  "interpreter": {
   "hash": "138a5ec8d2cd4c43eea359047f218a9f0915fbe5edac97783088b1060435eff7"
  },
  "kernelspec": {
   "display_name": "Python 3.9.7 ('base')",
   "language": "python",
   "name": "python3"
  },
  "language_info": {
   "codemirror_mode": {
    "name": "ipython",
    "version": 3
   },
   "file_extension": ".py",
   "mimetype": "text/x-python",
   "name": "python",
   "nbconvert_exporter": "python",
   "pygments_lexer": "ipython3",
   "version": "3.9.7"
  },
  "orig_nbformat": 4
 },
 "nbformat": 4,
 "nbformat_minor": 2
}
