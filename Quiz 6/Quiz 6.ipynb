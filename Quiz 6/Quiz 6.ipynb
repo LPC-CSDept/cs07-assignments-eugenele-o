{
 "cells": [
  {
   "cell_type": "code",
   "execution_count": null,
   "metadata": {},
   "outputs": [],
   "source": [
    "#Quiz 6-1 / Student Quiz Scores\n",
    "\n",
    "id = []\n",
    "name = []\n",
    "scores = []\n",
    "\n",
    "def getInput():\n",
    "  for i in range(int(input('How many total students are there?: '))):\n",
    "    print('Input their student ID\\'s: ', i+1, end=\" \")\n",
    "    id.append(input())\n",
    "    print('Please input the students names: ', i+1, end=\" \")\n",
    "    name.append(input())\n",
    "    scores.append([])\n",
    "\n",
    "    for j in range(4):\n",
    "      print(\"Please enter the score for\", j+1 ,\"for student\", i+1, end=\" \")\n",
    "      scores[-1].append(int(input()))\n",
    "\n",
    "def findHighestScore():\n",
    "  idx = 0\n",
    "  highest = float(\"-inf\")\n",
    "\n",
    "  for i in range(len(scores)):\n",
    "    if(sum(scores[i]) > highest):\n",
    "      highest = sum(scores[i])\n",
    "      idx = i\n",
    "\n",
    "   return index\n",
    "\n",
    "def findLowestScore():\n",
    "  idx = 0\n",
    "  smallest = float(\"inf\")\n",
    "\n",
    "  for i in range(len(scores)):\n",
    "    if(sum(scores[i]) < smallest):\n",
    "      smallest = sum(scores[i])\n",
    "      index = i\n",
    "  \n",
    "  return index"
   ]
  },
  {
   "cell_type": "code",
   "execution_count": null,
   "metadata": {},
   "outputs": [],
   "source": [
    "#Quiz 6-2 / Lambda and Yield\n",
    "\n"
   ]
  }
 ],
 "metadata": {
  "language_info": {
   "name": "python"
  },
  "orig_nbformat": 4
 },
 "nbformat": 4,
 "nbformat_minor": 2
}
