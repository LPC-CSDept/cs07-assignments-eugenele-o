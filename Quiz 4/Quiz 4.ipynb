{
 "cells": [
  {
   "cell_type": "code",
   "execution_count": 2,
   "metadata": {},
   "outputs": [
    {
     "name": "stdout",
     "output_type": "stream",
     "text": [
      "46 21\n",
      "81 9\n",
      "50 7\n",
      "Two even values have been generated, those two numbers are (6, 68)\n"
     ]
    }
   ],
   "source": [
    "#Quiz 4-1\n",
    "\n",
    "import random as rng\n",
    "\n",
    "while True:\n",
    "  prev_num = rng.randint(0, 100)\n",
    "  next_num = rng.randint(0, 100)\n",
    "\n",
    "  if prev_num % 2 == 0 and next_num % 2 == 0:\n",
    "    print(f'Two even values have been generated, those two numbers are ({prev_num}, {next_num})')\n",
    "    break      #I decided against using a flag, it doesn't seem very practical\n",
    "  else:\n",
    "    print(prev_num, next_num)"
   ]
  },
  {
   "cell_type": "code",
   "execution_count": 5,
   "metadata": {},
   "outputs": [
    {
     "name": "stdout",
     "output_type": "stream",
     "text": [
      "super\n",
      "open\n",
      "closed\n",
      "stop\n",
      "There were 3 p's in the strings you input!\n"
     ]
    }
   ],
   "source": [
    "#Quiz 4-2\n",
    "\n",
    "keyword = 'stop'\n",
    "sum = 0\n",
    "\n",
    "while True:\n",
    "  user_input = input('Please input anything: ').lower()\n",
    "  print(user_input)\n",
    "  if 'p' in user_input:\n",
    "    sum += 1\n",
    "  if user_input == keyword:\n",
    "    break\n",
    "print(f'There were {sum} p\\'s in the strings you input!')"
   ]
  }
 ],
 "metadata": {
  "interpreter": {
   "hash": "b23c1829de45e80128221cfbbe48e43253e3486b78a8791b1ce1cebf22a83235"
  },
  "kernelspec": {
   "display_name": "Python 3.10.1 64-bit",
   "language": "python",
   "name": "python3"
  },
  "language_info": {
   "codemirror_mode": {
    "name": "ipython",
    "version": 3
   },
   "file_extension": ".py",
   "mimetype": "text/x-python",
   "name": "python",
   "nbconvert_exporter": "python",
   "pygments_lexer": "ipython3",
   "version": "3.10.1"
  },
  "orig_nbformat": 4
 },
 "nbformat": 4,
 "nbformat_minor": 2
}
