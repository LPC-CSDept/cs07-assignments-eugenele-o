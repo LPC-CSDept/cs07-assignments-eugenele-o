{
 "cells": [
  {
   "cell_type": "code",
   "execution_count": 189,
   "metadata": {},
   "outputs": [
    {
     "name": "stdout",
     "output_type": "stream",
     "text": [
      "85 , 2 , 75 , 51 , 35 , 63 , 59 , 61 , 25 , 72 , 27 , 6 , 36\n",
      "\n",
      "Two even values have been generated, those two numbers are (6, 36)\n"
     ]
    }
   ],
   "source": [
    "#Quiz 4-1\n",
    "\n",
    "import random as rng\n",
    "\n",
    "while True:\n",
    "  current_num = rng.randint(1, 100)\n",
    "\n",
    "  if prev_num % 2 == 0 and current_num % 2 == 0:\n",
    "    print(current_num)\n",
    "    print(f'\\nTwo even values have been generated, those two numbers are ({prev_num}, {current_num})')\n",
    "    break\n",
    "  else:\n",
    "    print(current_num, end=' , ')\n",
    "  prev_num = current_num"
   ]
  },
  {
   "cell_type": "code",
   "execution_count": 8,
   "metadata": {},
   "outputs": [
    {
     "name": "stdout",
     "output_type": "stream",
     "text": [
      "ploi\n",
      "play\n",
      "suspend\n",
      "serenity\n",
      "stop\n",
      "There was at least 1 P in 4 string's you input!\n"
     ]
    }
   ],
   "source": [
    "#Quiz 4-2\n",
    "\n",
    "keyword = 'stop'\n",
    "sum = 0\n",
    "\n",
    "while True:\n",
    "  user_input = input('Please input anything: ').lower()\n",
    "  print(user_input)\n",
    "  if 'p' in user_input:\n",
    "    sum += 1\n",
    "  if user_input == keyword:\n",
    "    break\n",
    "print(f'There was at least 1 P in {sum} string\\'s you input!')"
   ]
  }
 ],
 "metadata": {
  "interpreter": {
   "hash": "b23c1829de45e80128221cfbbe48e43253e3486b78a8791b1ce1cebf22a83235"
  },
  "kernelspec": {
   "display_name": "Python 3.10.1 64-bit",
   "language": "python",
   "name": "python3"
  },
  "language_info": {
   "codemirror_mode": {
    "name": "ipython",
    "version": 3
   },
   "file_extension": ".py",
   "mimetype": "text/x-python",
   "name": "python",
   "nbconvert_exporter": "python",
   "pygments_lexer": "ipython3",
   "version": "3.10.1"
  },
  "orig_nbformat": 4
 },
 "nbformat": 4,
 "nbformat_minor": 2
}
