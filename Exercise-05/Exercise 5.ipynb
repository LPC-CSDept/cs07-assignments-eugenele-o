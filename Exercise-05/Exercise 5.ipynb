{
 "cells": [
  {
   "cell_type": "code",
   "execution_count": 1,
   "metadata": {},
   "outputs": [
    {
     "name": "stdout",
     "output_type": "stream",
     "text": [
      "The total numbers input were [21, 2, 4, 12, 43]\n",
      "The total sum of all numbers is 82\n",
      "The mathematical average number is 12.33 as a decimal\n"
     ]
    }
   ],
   "source": [
    "#Exercise 1\n",
    "\n",
    "user_int = 5 \n",
    "user_ints = []\n",
    "sum = 0\n",
    "\n",
    "for i in range(user_int):\n",
    "  user_int = int(input('Enter any number: '))\n",
    "  sum += user_int\n",
    "  user_ints.insert(i, user_int)\n",
    "print(f'The total numbers input were {user_ints}')\n",
    "\n",
    "sum2 = sum\n",
    "sum2 -= min(user_ints)\n",
    "sum2 -= max(user_ints)\n",
    "user_ints.remove(min(user_ints))\n",
    "user_ints.remove(max(user_ints))\n",
    "print(f'The total sum of all numbers is {sum}')\n",
    "\n",
    "average = sum2 / len(user_ints)\n",
    "print('The mathematical average number is {:.2f} as a decimal'.format(average))"
   ]
  },
  {
   "cell_type": "code",
   "execution_count": 2,
   "metadata": {},
   "outputs": [
    {
     "name": "stdout",
     "output_type": "stream",
     "text": [
      "The smallest generated number was 2, it's index number is 9 (From 0-9), and the list as a whole is [11, 8, 21, 61, 35, 45, 44, 13, 31, 2]\n"
     ]
    }
   ],
   "source": [
    "#Exercise 2\n",
    "\n",
    "import random\n",
    "\n",
    "total_gen = 10\n",
    "gen_list = []\n",
    "\n",
    "for i in range(total_gen):\n",
    "  gen_int = random.randint(0,100)\n",
    "  gen_list.insert(i, gen_int)\n",
    "min = min(gen_list)\n",
    "min_idx = gen_list.index(min)\n",
    "\n",
    "print(f'The smallest generated number was {min}, it\\'s index number is {min_idx} (From 0-9), and the list as a whole is {gen_list}')"
   ]
  }
 ],
 "metadata": {
  "interpreter": {
   "hash": "b23c1829de45e80128221cfbbe48e43253e3486b78a8791b1ce1cebf22a83235"
  },
  "kernelspec": {
   "display_name": "Python 3.10.1 64-bit",
   "language": "python",
   "name": "python3"
  },
  "language_info": {
   "codemirror_mode": {
    "name": "ipython",
    "version": 3
   },
   "file_extension": ".py",
   "mimetype": "text/x-python",
   "name": "python",
   "nbconvert_exporter": "python",
   "pygments_lexer": "ipython3",
   "version": "3.10.1"
  },
  "orig_nbformat": 4
 },
 "nbformat": 4,
 "nbformat_minor": 2
}
