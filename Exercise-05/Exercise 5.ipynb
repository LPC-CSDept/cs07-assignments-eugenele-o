{
 "cells": [
  {
   "cell_type": "code",
   "execution_count": 1,
   "metadata": {},
   "outputs": [
    {
     "name": "stdout",
     "output_type": "stream",
     "text": [
      "The total numbers input were [21, 2, 4, 12, 43]\n",
      "The total sum of all numbers is 82\n",
      "The mathematical average number is 12.33 as a decimal\n"
     ]
    }
   ],
   "source": [
    "#Exercise 1/ Calculate the Summation of a List\n",
    "\n",
    "user_int = 5 \n",
    "user_ints = []\n",
    "sum = 0\n",
    "\n",
    "for i in range(user_int):\n",
    "  user_int = int(input('Enter any number: '))\n",
    "  sum += user_int\n",
    "  user_ints.insert(i, user_int)\n",
    "print(f'The total numbers input were {user_ints}')\n",
    "\n",
    "sum2 = sum\n",
    "sum2 -= min(user_ints)\n",
    "sum2 -= max(user_ints)\n",
    "user_ints.remove(min(user_ints))\n",
    "user_ints.remove(max(user_ints))\n",
    "print(f'The total sum of all numbers is {sum}')\n",
    "\n",
    "average = sum2 / len(user_ints)\n",
    "print('The mathematical average number is {:.2f} as a decimal'.format(average))"
   ]
  },
  {
   "cell_type": "code",
   "execution_count": 2,
   "metadata": {},
   "outputs": [
    {
     "name": "stdout",
     "output_type": "stream",
     "text": [
      "The smallest generated number was 2, it's index number is 9 (From 0-9), and the list as a whole is [11, 8, 21, 61, 35, 45, 44, 13, 31, 2]\n"
     ]
    }
   ],
   "source": [
    "#Exercise 2 / Find the Smallest Value in a List\n",
    "\n",
    "import random\n",
    "\n",
    "total_gen = 10\n",
    "gen_list = []\n",
    "\n",
    "for i in range(total_gen):\n",
    "  gen_int = random.randint(0,100)\n",
    "  gen_list.insert(i, gen_int)\n",
    "min = min(gen_list)\n",
    "min_idx = gen_list.index(min)\n",
    "\n",
    "print(f'The smallest generated number was {min}, it\\'s index number is {min_idx} (From 0-9), and the list as a whole is {gen_list}')"
   ]
  },
  {
   "cell_type": "code",
   "execution_count": 35,
   "metadata": {},
   "outputs": [
    {
     "ename": "ZeroDivisionError",
     "evalue": "division by zero",
     "output_type": "error",
     "traceback": [
      "\u001b[1;31m---------------------------------------------------------------------------\u001b[0m",
      "\u001b[1;31mZeroDivisionError\u001b[0m                         Traceback (most recent call last)",
      "\u001b[1;32mc:\\Users\\marxo\\github-classroom\\LPC-CSDept\\cs07-assignments-eugenele-o\\Exercise-05\\Exercise 5.ipynb Cell 3'\u001b[0m in \u001b[0;36m<module>\u001b[1;34m\u001b[0m\n\u001b[0;32m      <a href='vscode-notebook-cell:/c%3A/Users/marxo/github-classroom/LPC-CSDept/cs07-assignments-eugenele-o/Exercise-05/Exercise%205.ipynb#ch0000002?line=6'>7</a>\u001b[0m \u001b[39msum\u001b[39m \u001b[39m=\u001b[39m \u001b[39m0\u001b[39m\n\u001b[0;32m      <a href='vscode-notebook-cell:/c%3A/Users/marxo/github-classroom/LPC-CSDept/cs07-assignments-eugenele-o/Exercise-05/Exercise%205.ipynb#ch0000002?line=7'>8</a>\u001b[0m over_avg \u001b[39m=\u001b[39m \u001b[39m0\u001b[39m\n\u001b[1;32m----> <a href='vscode-notebook-cell:/c%3A/Users/marxo/github-classroom/LPC-CSDept/cs07-assignments-eugenele-o/Exercise-05/Exercise%205.ipynb#ch0000002?line=8'>9</a>\u001b[0m average \u001b[39m=\u001b[39m \u001b[39msum\u001b[39;49m \u001b[39m/\u001b[39;49m \u001b[39mlen\u001b[39;49m(gen_list)\n\u001b[0;32m     <a href='vscode-notebook-cell:/c%3A/Users/marxo/github-classroom/LPC-CSDept/cs07-assignments-eugenele-o/Exercise-05/Exercise%205.ipynb#ch0000002?line=10'>11</a>\u001b[0m \u001b[39mfor\u001b[39;00m i \u001b[39min\u001b[39;00m \u001b[39mrange\u001b[39m(total_gen):\n\u001b[0;32m     <a href='vscode-notebook-cell:/c%3A/Users/marxo/github-classroom/LPC-CSDept/cs07-assignments-eugenele-o/Exercise-05/Exercise%205.ipynb#ch0000002?line=11'>12</a>\u001b[0m   gen_int \u001b[39m=\u001b[39m random\u001b[39m.\u001b[39mrandint(\u001b[39m0\u001b[39m,\u001b[39m100\u001b[39m)\n",
      "\u001b[1;31mZeroDivisionError\u001b[0m: division by zero"
     ]
    }
   ],
   "source": [
    "#Exercise 3 / Find Values Greater than the Average Value with Lists\n",
    "\n",
    "import random\n",
    "\n",
    "total_gen = 10\n",
    "gen_list = []\n",
    "sum = 0\n",
    "over_avg = 0\n",
    "average = sum / len(gen_list)\n",
    "\n",
    "for i in range(total_gen):\n",
    "  gen_int = random.randint(0,100)\n",
    "  gen_list.insert(i, gen_int)\n",
    "  sum += total_gen\n",
    "  if gen_int > average:\n",
    "    over_avg += 1\n",
    "\n",
    "print(over_avg)"
   ]
  }
 ],
 "metadata": {
  "interpreter": {
   "hash": "b23c1829de45e80128221cfbbe48e43253e3486b78a8791b1ce1cebf22a83235"
  },
  "kernelspec": {
   "display_name": "Python 3.10.1 64-bit",
   "language": "python",
   "name": "python3"
  },
  "language_info": {
   "codemirror_mode": {
    "name": "ipython",
    "version": 3
   },
   "file_extension": ".py",
   "mimetype": "text/x-python",
   "name": "python",
   "nbconvert_exporter": "python",
   "pygments_lexer": "ipython3",
   "version": "3.10.1"
  },
  "orig_nbformat": 4
 },
 "nbformat": 4,
 "nbformat_minor": 2
}
