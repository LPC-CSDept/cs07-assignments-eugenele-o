{
 "cells": [
  {
   "cell_type": "code",
   "execution_count": 1,
   "metadata": {},
   "outputs": [
    {
     "name": "stdout",
     "output_type": "stream",
     "text": [
      "Your coordinates are (-4, 7) and it is located in Quadrant 2\n"
     ]
    }
   ],
   "source": [
    "#Coordinate Quadrant Finder\n",
    "\n",
    "input_x = int(input('Please input the X coordinate: '))\n",
    "input_y = int(input('Please input the Y coordinate: '))\n",
    "\n",
    "if input_x > 0 and input_y > 0:\n",
    "  print(f\"Your coordinates are {input_x, input_y} and it is located in Quadrant 1\")\n",
    "else:\n",
    "  if input_x < 0 and input_y > 0:\n",
    "    print(f'Your coordinates are {input_x, input_y} and it is located in Quadrant 2')\n",
    "  if input_x < 0 and input_y < 0:\n",
    "    print(f'Your coordinates are {input_x, input_y} and it is located in Quadrant 3')\n",
    "  if input_x > 0 and input_y < 0:\n",
    "    print(f'Your coordinates are {input_x, input_y} and it is located in Quadrant 4')"
   ]
  }
 ],
 "metadata": {
  "interpreter": {
   "hash": "b23c1829de45e80128221cfbbe48e43253e3486b78a8791b1ce1cebf22a83235"
  },
  "kernelspec": {
   "display_name": "Python 3.10.1 64-bit",
   "language": "python",
   "name": "python3"
  },
  "language_info": {
   "codemirror_mode": {
    "name": "ipython",
    "version": 3
   },
   "file_extension": ".py",
   "mimetype": "text/x-python",
   "name": "python",
   "nbconvert_exporter": "python",
   "pygments_lexer": "ipython3",
   "version": "3.10.1"
  },
  "orig_nbformat": 4
 },
 "nbformat": 4,
 "nbformat_minor": 2
}
