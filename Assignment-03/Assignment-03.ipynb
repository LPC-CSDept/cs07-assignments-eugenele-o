{
 "cells": [
  {
   "cell_type": "code",
   "execution_count": 5,
   "metadata": {},
   "outputs": [
    {
     "name": "stdout",
     "output_type": "stream",
     "text": [
      "Your coordinates are (-5, -7) and it is located in Quadrant 3\n"
     ]
    }
   ],
   "source": [
    "#Coordinate Quadrant Finder / Exercise 4\n",
    "\n",
    "input_x = int(input('Please input the X coordinate: '))\n",
    "input_y = int(input('Please input the Y coordinate: '))\n",
    "\n",
    "if (input_x > 0):\n",
    "\tif (input_y > 0):\n",
    "\t\tprint(f'Your coordinates are {input_x, input_y} and it is located in Quadrant 1')\n",
    "\telse:\n",
    "\t\tprint(f'Your coordinates are {input_x, input_y} and it is located in Quadrant 3')\n",
    "else:\n",
    "\tif (input_y > 0):\n",
    "\t\tprint(f'Your coordinates are {input_x, input_y} and it is located in Quadrant 2')\n",
    "\telse:\n",
    "\t\tprint(f'Your coordinates are {input_x, input_y} and it is located in Quadrant 4')"
   ]
  },
  {
   "cell_type": "code",
   "execution_count": 119,
   "metadata": {},
   "outputs": [
    {
     "name": "stdout",
     "output_type": "stream",
     "text": [
      "Value 1 and 3 are identical, but Value 2 is different, (19, 50, 19)\n"
     ]
    }
   ],
   "source": [
    "#Random Number Validator / Exercise 5\n",
    "\n",
    "import random\n",
    "number1 = random.randint(0,100)\n",
    "number2 = random.randint(0,100)\n",
    "number3 = random.randint(0,100)\n",
    "\n",
    "if number1 == number2 == number3:\n",
    "    print('All values are identical, {number1}, {number2}, {number3}')\n",
    "elif number1 == number2:\n",
    "    print(f'Value 1 and 2 are identical, but Value 3 is different, ({number1}, {number2}, {number3})')\n",
    "elif number1 == number3:\n",
    "    print(f'Value 1 and 3 are identical, but Value 2 is different, ({number1}, {number2}, {number3})')\n",
    "elif number2 == number3:\n",
    "    print(f'Value 2 and 3 are identical, but Value 1 is different, ({number1}, {number2}, {number3})')\n",
    "elif number1 != number2 != number3:\n",
    "    print(f'No values are identical, ({number1}, {number2}, {number3})')\n",
    "\n"
   ]
  },
  {
   "cell_type": "code",
   "execution_count": 226,
   "metadata": {},
   "outputs": [
    {
     "name": "stdout",
     "output_type": "stream",
     "text": [
      "Value 3 is the smallest number in the set, the number is 0, the set as a whole is (48, 96, and 0)\n"
     ]
    }
   ],
   "source": [
    "#Smallest Number in a Random Set Finder / Exercise 6\n",
    "\n",
    "import random\n",
    "number1 = random.randint(0,100)\n",
    "number2 = random.randint(0,100)\n",
    "number3 = random.randint(0,100)\n",
    "\n",
    "if number1 < number2 and number3:\n",
    "    print(f'Value 1 is the smallest number in the set, the number is {number1}, the set as a whole is ({number1}, {number2}, and {number3})')\n",
    "elif number2 < number1 and number3:\n",
    "    print(f'Value 2 is the smallest number in the set, the number is {number2}, the set as a whole is ({number1}, {number2}, and {number3})')\n",
    "elif number3 < number1 and number2:\n",
    "    print(f'Value 3 is the smallest number in the set, the number is {number3}, the set as a whole is ({number1}, {number2}, and {number3})')"
   ]
  }
 ],
 "metadata": {
  "interpreter": {
   "hash": "b23c1829de45e80128221cfbbe48e43253e3486b78a8791b1ce1cebf22a83235"
  },
  "kernelspec": {
   "display_name": "Python 3.10.1 64-bit",
   "language": "python",
   "name": "python3"
  },
  "language_info": {
   "codemirror_mode": {
    "name": "ipython",
    "version": 3
   },
   "file_extension": ".py",
   "mimetype": "text/x-python",
   "name": "python",
   "nbconvert_exporter": "python",
   "pygments_lexer": "ipython3",
   "version": "3.10.1"
  },
  "orig_nbformat": 4
 },
 "nbformat": 4,
 "nbformat_minor": 2
}
