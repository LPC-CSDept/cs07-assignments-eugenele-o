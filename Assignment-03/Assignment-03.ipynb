{
 "cells": [
  {
   "cell_type": "code",
   "execution_count": 4,
   "metadata": {},
   "outputs": [
    {
     "name": "stdout",
     "output_type": "stream",
     "text": [
      "Your coordinates are (-2, 7) and it is located in Quadrant 2\n"
     ]
    }
   ],
   "source": [
    "#Coordinate Quadrant Finder / Exercise 4\n",
    "\n",
    "input_x = int(input('Please input the X coordinate: '))\n",
    "input_y = int(input('Please input the Y coordinate: '))\n",
    "\n",
    "if (input_x > 0):\n",
    "\tif (input_y > 0):\n",
    "\t\tprint(f'Your coordinates are {input_x, input_y} and it is located in Quadrant 1')\n",
    "\telse:\n",
    "\t\tprint(f'Your coordinates are {input_x, input_y} and it is located in Quadrant 4')\n",
    "else:\n",
    "\tif (input_y > 0):\n",
    "\t\tprint(f'Your coordinates are {input_x, input_y} and it is located in Quadrant 2')\n",
    "\telse:\n",
    "\t\tprint(f'Your coordinates are {input_x, input_y} and it is located in Quadrant 3')"
   ]
  },
  {
   "cell_type": "code",
   "execution_count": null,
   "metadata": {},
   "outputs": [],
   "source": [
    "#Random Number Validator / Exercise 5\n",
    "\n",
    "import random as rng\n",
    "number1 = rng.randit(0 , 100)\n",
    "\n"
   ]
  }
 ],
 "metadata": {
  "interpreter": {
   "hash": "b23c1829de45e80128221cfbbe48e43253e3486b78a8791b1ce1cebf22a83235"
  },
  "kernelspec": {
   "display_name": "Python 3.10.1 64-bit",
   "language": "python",
   "name": "python3"
  },
  "language_info": {
   "codemirror_mode": {
    "name": "ipython",
    "version": 3
   },
   "file_extension": ".py",
   "mimetype": "text/x-python",
   "name": "python",
   "nbconvert_exporter": "python",
   "pygments_lexer": "ipython3",
   "version": "3.10.1"
  },
  "orig_nbformat": 4
 },
 "nbformat": 4,
 "nbformat_minor": 2
}
