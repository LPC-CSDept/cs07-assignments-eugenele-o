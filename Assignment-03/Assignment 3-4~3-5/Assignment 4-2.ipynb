{
 "cells": [
  {
   "cell_type": "code",
   "execution_count": 5,
   "metadata": {},
   "outputs": [
    {
     "name": "stdout",
     "output_type": "stream",
     "text": [
      "11\n",
      "93\n",
      "31\n",
      "53\n",
      "52 is an even number! The End!\n"
     ]
    }
   ],
   "source": [
    "#Exercise 4 / Loop Until Even Number\n",
    "\n",
    "import random as rng\n",
    "\n",
    "while True:\n",
    "    int = rng.randint(0,100)\n",
    "    if int % 2 != 0:\n",
    "        print(int)\n",
    "    else:\n",
    "        print(f'{int} is an even number! The End!') #I only wrote this like if someone was curious on what the final number was\n",
    "        break"
   ]
  },
  {
   "cell_type": "code",
   "execution_count": 8,
   "metadata": {},
   "outputs": [
    {
     "name": "stdout",
     "output_type": "stream",
     "text": [
      "17\n",
      "61\n",
      "7\n",
      "The total sum was 85\n"
     ]
    }
   ],
   "source": [
    "#Exercise 5 / Summation of Random Numbers Before 100\n",
    "\n",
    "import random as rng\n",
    "sum = 0\n",
    "\n",
    "while sum < 100:\n",
    "\tnum = rng.randint(0,100)\n",
    "\tsum += num \n",
    "\tif sum < 100: \n",
    "\t  print (num)\n",
    "\n",
    "print (f\"The total sum was {sum-num}\")"
   ]
  }
 ],
 "metadata": {
  "interpreter": {
   "hash": "b23c1829de45e80128221cfbbe48e43253e3486b78a8791b1ce1cebf22a83235"
  },
  "kernelspec": {
   "display_name": "Python 3.10.1 64-bit",
   "language": "python",
   "name": "python3"
  },
  "language_info": {
   "codemirror_mode": {
    "name": "ipython",
    "version": 3
   },
   "file_extension": ".py",
   "mimetype": "text/x-python",
   "name": "python",
   "nbconvert_exporter": "python",
   "pygments_lexer": "ipython3",
   "version": "3.10.1"
  },
  "orig_nbformat": 4
 },
 "nbformat": 4,
 "nbformat_minor": 2
}
