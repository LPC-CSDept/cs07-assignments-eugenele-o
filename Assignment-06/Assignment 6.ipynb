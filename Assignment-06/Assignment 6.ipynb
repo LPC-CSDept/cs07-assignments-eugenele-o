{
 "cells": [
  {
   "cell_type": "code",
   "execution_count": 8,
   "metadata": {},
   "outputs": [
    {
     "name": "stdout",
     "output_type": "stream",
     "text": [
      "21\n"
     ]
    }
   ],
   "source": [
    "#Assignment 5-1 / Sum of a Product\n",
    "\n",
    "list1 = [5, 3, 1, 0, 2]\n",
    "list2 = [1, 2, 0, 9, 5]\n",
    "\n",
    "def sumProduct(a, b):\n",
    "    solution = []\n",
    "    for i in range(len(a)):\n",
    "        solution.append(a[i] * b[i])\n",
    "\n",
    "    return sum(solution)\n",
    "\n",
    "print (sumProduct(list1, list2))"
   ]
  },
  {
   "cell_type": "code",
   "execution_count": 12,
   "metadata": {},
   "outputs": [
    {
     "name": "stdout",
     "output_type": "stream",
     "text": [
      " F    WALLS\n"
     ]
    }
   ],
   "source": [
    "#Assignment 5-2 / Strip the Space Character\n",
    "\n",
    "message = input(\"Please enter something: \")\n",
    "\n",
    "def stripspace(str):\n",
    "    blank = \" \"\n",
    "    for i in str:\n",
    "        if(not i.islower()):\n",
    "            blank += i\n",
    "    return blank\n",
    "\n",
    "result = stripspace(message)\n",
    "\n",
    "print(result)"
   ]
  },
  {
   "cell_type": "code",
   "execution_count": 15,
   "metadata": {},
   "outputs": [
    {
     "name": "stdout",
     "output_type": "stream",
     "text": [
      " PythonProgrammingsection2\n"
     ]
    }
   ],
   "source": [
    "#Assignment 5-3 / Lambda Function\n",
    "\n",
    "isspace = lambda char: char.isspace()\n",
    "\n",
    "def mystrip(msg):\n",
    "  res = ' '\n",
    "  for char in msg:\n",
    "    if isspace(char) == False:\n",
    "      res += char\n",
    "\n",
    "  return res\n",
    "\n",
    "if __name__ == '__main__':\n",
    "  msg = \"Python Programming section 2\"\n",
    "  res = mystrip(msg)\n",
    "  print(res)"
   ]
  },
  {
   "cell_type": "code",
   "execution_count": 26,
   "metadata": {},
   "outputs": [
    {
     "name": "stdout",
     "output_type": "stream",
     "text": [
      "2\n"
     ]
    }
   ],
   "source": [
    "#Assignment 5-4 / Yield\n",
    "\n",
    "msg = \"Python programming section 2\"\n",
    "\n",
    "def getalnum(msg):\n",
    "  for char in msg:\n",
    "    if char.isalnum():\n",
    "      yield char\n",
    "\n",
    "res = getalnum(msg)\n",
    "\n",
    "for i in res:\n",
    "\tprint (i)"
   ]
  }
 ],
 "metadata": {
  "interpreter": {
   "hash": "b23c1829de45e80128221cfbbe48e43253e3486b78a8791b1ce1cebf22a83235"
  },
  "kernelspec": {
   "display_name": "Python 3.10.1 64-bit",
   "language": "python",
   "name": "python3"
  },
  "language_info": {
   "codemirror_mode": {
    "name": "ipython",
    "version": 3
   },
   "file_extension": ".py",
   "mimetype": "text/x-python",
   "name": "python",
   "nbconvert_exporter": "python",
   "pygments_lexer": "ipython3",
   "version": "3.10.1"
  },
  "orig_nbformat": 4
 },
 "nbformat": 4,
 "nbformat_minor": 2
}
